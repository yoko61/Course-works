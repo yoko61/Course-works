{
 "cells": [
  {
   "cell_type": "markdown",
   "id": "1062b318",
   "metadata": {},
   "source": [
    "# Course Project: Titanic Exploratory Data Analysis and Model\n",
    "The problem:\n",
    "Perform an exploratory data analysis (EDA) on the 'Titanic' dataset and build a model to predict survival based on the information about the passengers.\n",
    "\n",
    "During the EDA, your goal is to understand the data, missing values, and relationships. A common practice is to ask questions relevant to the problem and explain what you see.\n",
    "\n",
    "Your goal is to build a document that reads like a story, beginning, middle, and end. It should include findings even if the conclusion is something like this: \"Based on our analysis, there is no indication that this variable influences the Survival.\"\n",
    "\n",
    "Your grade will not depend on the absolute 'error' of the final model. Instead, the focus is where you started and what steps you took to improve it.\n",
    "\n",
    "Many factors influence final performance based on the ML algorithm selected. Your report should include work focusing on these areas:\n",
    "\n",
    "Load the data and formulate some hypotheses about it.\n",
    "\n",
    "Summarize or visualize the data and explain the findings.\n",
    "\n",
    "Explore opportunities for 'Feature engineering,' trying to create new features from the original data.\n",
    "\n",
    "Build and tune the model. (We are providing a sample code for this part so you can adjust it.)\n",
    "\n",
    "Here is a sequence that you can use as a starting point for the EDA.\n",
    "\n",
    "Section 1. Basic Hypothesis formulation\n",
    "Here are a few questions to explore:\n",
    "\n",
    "A. Questions about features (Predictors)\n",
    "Is the size of the group a determinant factor in the survival of the accident?\n",
    "How is survival influenced based on passenger class?\n",
    "How does age influence survival?\n",
    "\n",
    "B. Questions about ways to complete missing data.\n",
    "Can I use the person title listed in the ticket to estimate age?\n",
    "Can I use the passenger gender to estimate age?\n",
    "\n",
    "C. Map two feature against survival\n",
    "How can we see the effect of 'Group size' and 'Age' on chances of survival?\n",
    "\n",
    "Section 2. Feature Engineering\n",
    "A. Creating new features\n",
    "Can I use ticket information to generate information about the passenger's location on the ship?\n",
    "Can we extract information about the title to assign passengers into groups like 'members of clergy,' 'widows,' 'soldiers,' etc.?\n",
    "\n",
    "Section 3. Summarize the findings with plots.\n",
    "For each hypothesis, you have selected, create a visual representation to help confirm or reject the original premise.\n",
    "\n",
    "Section 4. Build an initial prediction model for surviving the accident.\n",
    "Using the template code provided, create a model using at least six features and comment on your findings.\n",
    "\n",
    "Section 5. Tune the prediction model.\n",
    "Using the template code provided, adjust the values of the hyperparameters.\n",
    "\n",
    "Section 6. Final Notes.\n",
    "Complete your report stating a summary of the conclusions and suggesting next steps."
   ]
  },
  {
   "cell_type": "markdown",
   "id": "35c675dd",
   "metadata": {},
   "source": [
    "----------------------------------------------------------------------------------------------------------------------------------------------"
   ]
  },
  {
   "cell_type": "markdown",
   "id": "49749be7",
   "metadata": {},
   "source": [
    "Historically, Titanic was accused that helped to survive only rich people. So, I guess richer people could survived more. \n",
    "Also, in general, survival rate is related to the age and sex. Let's see how data proves it."
   ]
  },
  {
   "cell_type": "code",
   "execution_count": 1,
   "id": "de724319",
   "metadata": {},
   "outputs": [],
   "source": [
    "import enum\n",
    "import csv\n",
    "import re\n",
    "import pandas as pd\n",
    "import numpy as np\n",
    "import matplotlib.pyplot as plt\n",
    "%matplotlib inline\n",
    "\n",
    "import seaborn as sns\n",
    "plt.style.use('seaborn-notebook')\n",
    "from matplotlib.ticker import StrMethodFormatter\n",
    "from IPython.display import display, HTML\n",
    "from IPython.display import Math, Latex\n",
    "\n",
    "from sklearn.preprocessing import StandardScaler, MinMaxScaler, LabelBinarizer\n",
    "from sklearn.model_selection import train_test_split, GridSearchCV, cross_val_score\n",
    "from sklearn.model_selection import cross_validate, validation_curve\n",
    "from sklearn.metrics import accuracy_score, precision_score, recall_score, roc_curve, precision_recall_curve, auc, make_scorer, confusion_matrix, f1_score, fbeta_score\n",
    "from sklearn.ensemble import RandomForestClassifier, AdaBoostClassifier, GradientBoostingClassifier\n"
   ]
  },
  {
   "cell_type": "code",
   "execution_count": 2,
   "id": "8dae51f0",
   "metadata": {},
   "outputs": [],
   "source": [
    "class Fld(enum.Enum):\n",
    "    PassengerId = 0;  Survived = 1;   Pclass = 2; Name = 3;  Sex = 4\n",
    "    Age = 5;          SibSp = 6;      Parch = 7;  Ticket = 8; Fare = 9;  \n",
    "    Cabin = 10;       Embarked = 11\n",
    "\n",
    "\n",
    "def load_titanic_csv(file_name):\n",
    "    data = []\n",
    "    with open(file_name, newline='') as csv_file:\n",
    "        line_reader = csv.reader(csv_file, delimiter=',', quotechar='\"')\n",
    "        first_line = True\n",
    "        for row in line_reader:\n",
    "            if first_line:\n",
    "                first_line = False\n",
    "                continue\n",
    "            data.append(row)\n",
    "    return data\n",
    "\n",
    "\n",
    "def get_field(row, field_name):\n",
    "    idx = field_name.value\n",
    "    return row[idx]\n",
    "\n",
    "\n",
    "def print_row(row):\n",
    "    for idx, field in enumerate(Fld):\n",
    "        fld_name = field.name\n",
    "        print('{0:<2}: {1:<12} = {2}'.format(idx, fld_name, row[idx]))\n",
    "    \n",
    "def print_titanic_fields():\n",
    "    for idx, field in enumerate(Fld):\n",
    "        if idx % 4 == 0:\n",
    "            print(' ')\n",
    "        print('{0:<2}: {1:<15}'.format(idx, field), end='\\t')\n"
   ]
  },
  {
   "cell_type": "code",
   "execution_count": 3,
   "id": "765db10e",
   "metadata": {},
   "outputs": [],
   "source": [
    "##\"C:\\Users\\yoko\\Documents\\UCSCEX\\Winter2022\\DBDA.X427\\07-goodies\\train.csv\""
   ]
  },
  {
   "cell_type": "code",
   "execution_count": 4,
   "id": "73ecb1c8",
   "metadata": {
    "scrolled": false
   },
   "outputs": [],
   "source": [
    "# Loads the data.\n",
    "data = load_titanic_csv('C:/Users/yoko/Documents/UCSCEX/Winter2022/DBDA.X427/07-goodies/train.csv')\n",
    "test_df = pd.read_csv(\"C:/Users/yoko/Documents/UCSCEX/Winter2022/DBDA.X427/05-titanic-part-02/data/test.csv\")"
   ]
  },
  {
   "cell_type": "code",
   "execution_count": 5,
   "id": "f5301973",
   "metadata": {},
   "outputs": [
    {
     "name": "stdout",
     "output_type": "stream",
     "text": [
      "     PassengerId  Survived  Pclass  \\\n",
      "0              1         0       3   \n",
      "1              2         1       1   \n",
      "2              3         1       3   \n",
      "3              4         1       1   \n",
      "4              5         0       3   \n",
      "..           ...       ...     ...   \n",
      "886          887         0       2   \n",
      "887          888         1       1   \n",
      "888          889         0       3   \n",
      "889          890         1       1   \n",
      "890          891         0       3   \n",
      "\n",
      "                                                  Name     Sex   Age  SibSp  \\\n",
      "0                              Braund, Mr. Owen Harris    male  22.0      1   \n",
      "1    Cumings, Mrs. John Bradley (Florence Briggs Th...  female  38.0      1   \n",
      "2                               Heikkinen, Miss. Laina  female  26.0      0   \n",
      "3         Futrelle, Mrs. Jacques Heath (Lily May Peel)  female  35.0      1   \n",
      "4                             Allen, Mr. William Henry    male  35.0      0   \n",
      "..                                                 ...     ...   ...    ...   \n",
      "886                              Montvila, Rev. Juozas    male  27.0      0   \n",
      "887                       Graham, Miss. Margaret Edith  female  19.0      0   \n",
      "888           Johnston, Miss. Catherine Helen \"Carrie\"  female   NaN      1   \n",
      "889                              Behr, Mr. Karl Howell    male  26.0      0   \n",
      "890                                Dooley, Mr. Patrick    male  32.0      0   \n",
      "\n",
      "     Parch            Ticket     Fare Cabin Embarked  \n",
      "0        0         A/5 21171   7.2500   NaN        S  \n",
      "1        0          PC 17599  71.2833   C85        C  \n",
      "2        0  STON/O2. 3101282   7.9250   NaN        S  \n",
      "3        0            113803  53.1000  C123        S  \n",
      "4        0            373450   8.0500   NaN        S  \n",
      "..     ...               ...      ...   ...      ...  \n",
      "886      0            211536  13.0000   NaN        S  \n",
      "887      0            112053  30.0000   B42        S  \n",
      "888      2        W./C. 6607  23.4500   NaN        S  \n",
      "889      0            111369  30.0000  C148        C  \n",
      "890      0            370376   7.7500   NaN        Q  \n",
      "\n",
      "[891 rows x 12 columns]\n"
     ]
    }
   ],
   "source": [
    "titanic_df = pd.read_csv(\"C:/Users/yoko/Documents/UCSCEX/Winter2022/DBDA.X427/07-goodies/train.csv\")\n",
    "print(titanic_df)"
   ]
  },
  {
   "cell_type": "code",
   "execution_count": 7,
   "id": "b421378d",
   "metadata": {},
   "outputs": [
    {
     "data": {
      "text/plain": [
       "(891, 12)"
      ]
     },
     "execution_count": 7,
     "metadata": {},
     "output_type": "execute_result"
    }
   ],
   "source": [
    "titanic_df = pd.read_csv(\"C:/Users/yoko/Documents/UCSCEX/Winter2022/DBDA.X427/07-goodies/train.csv\")\n",
    "titanic_df.shape"
   ]
  },
  {
   "cell_type": "code",
   "execution_count": 8,
   "id": "f03d5348",
   "metadata": {
    "scrolled": true
   },
   "outputs": [
    {
     "data": {
      "text/html": [
       "<div>\n",
       "<style scoped>\n",
       "    .dataframe tbody tr th:only-of-type {\n",
       "        vertical-align: middle;\n",
       "    }\n",
       "\n",
       "    .dataframe tbody tr th {\n",
       "        vertical-align: top;\n",
       "    }\n",
       "\n",
       "    .dataframe thead th {\n",
       "        text-align: right;\n",
       "    }\n",
       "</style>\n",
       "<table border=\"1\" class=\"dataframe\">\n",
       "  <thead>\n",
       "    <tr style=\"text-align: right;\">\n",
       "      <th></th>\n",
       "      <th>PassengerId</th>\n",
       "      <th>Survived</th>\n",
       "      <th>Pclass</th>\n",
       "      <th>Name</th>\n",
       "      <th>Sex</th>\n",
       "      <th>Age</th>\n",
       "      <th>SibSp</th>\n",
       "      <th>Parch</th>\n",
       "      <th>Ticket</th>\n",
       "      <th>Fare</th>\n",
       "      <th>Cabin</th>\n",
       "      <th>Embarked</th>\n",
       "    </tr>\n",
       "  </thead>\n",
       "  <tbody>\n",
       "    <tr>\n",
       "      <th>0</th>\n",
       "      <td>1</td>\n",
       "      <td>0</td>\n",
       "      <td>3</td>\n",
       "      <td>Braund, Mr. Owen Harris</td>\n",
       "      <td>male</td>\n",
       "      <td>22.0</td>\n",
       "      <td>1</td>\n",
       "      <td>0</td>\n",
       "      <td>A/5 21171</td>\n",
       "      <td>7.2500</td>\n",
       "      <td>NaN</td>\n",
       "      <td>S</td>\n",
       "    </tr>\n",
       "    <tr>\n",
       "      <th>1</th>\n",
       "      <td>2</td>\n",
       "      <td>1</td>\n",
       "      <td>1</td>\n",
       "      <td>Cumings, Mrs. John Bradley (Florence Briggs Th...</td>\n",
       "      <td>female</td>\n",
       "      <td>38.0</td>\n",
       "      <td>1</td>\n",
       "      <td>0</td>\n",
       "      <td>PC 17599</td>\n",
       "      <td>71.2833</td>\n",
       "      <td>C85</td>\n",
       "      <td>C</td>\n",
       "    </tr>\n",
       "    <tr>\n",
       "      <th>2</th>\n",
       "      <td>3</td>\n",
       "      <td>1</td>\n",
       "      <td>3</td>\n",
       "      <td>Heikkinen, Miss. Laina</td>\n",
       "      <td>female</td>\n",
       "      <td>26.0</td>\n",
       "      <td>0</td>\n",
       "      <td>0</td>\n",
       "      <td>STON/O2. 3101282</td>\n",
       "      <td>7.9250</td>\n",
       "      <td>NaN</td>\n",
       "      <td>S</td>\n",
       "    </tr>\n",
       "    <tr>\n",
       "      <th>3</th>\n",
       "      <td>4</td>\n",
       "      <td>1</td>\n",
       "      <td>1</td>\n",
       "      <td>Futrelle, Mrs. Jacques Heath (Lily May Peel)</td>\n",
       "      <td>female</td>\n",
       "      <td>35.0</td>\n",
       "      <td>1</td>\n",
       "      <td>0</td>\n",
       "      <td>113803</td>\n",
       "      <td>53.1000</td>\n",
       "      <td>C123</td>\n",
       "      <td>S</td>\n",
       "    </tr>\n",
       "    <tr>\n",
       "      <th>4</th>\n",
       "      <td>5</td>\n",
       "      <td>0</td>\n",
       "      <td>3</td>\n",
       "      <td>Allen, Mr. William Henry</td>\n",
       "      <td>male</td>\n",
       "      <td>35.0</td>\n",
       "      <td>0</td>\n",
       "      <td>0</td>\n",
       "      <td>373450</td>\n",
       "      <td>8.0500</td>\n",
       "      <td>NaN</td>\n",
       "      <td>S</td>\n",
       "    </tr>\n",
       "    <tr>\n",
       "      <th>5</th>\n",
       "      <td>6</td>\n",
       "      <td>0</td>\n",
       "      <td>3</td>\n",
       "      <td>Moran, Mr. James</td>\n",
       "      <td>male</td>\n",
       "      <td>NaN</td>\n",
       "      <td>0</td>\n",
       "      <td>0</td>\n",
       "      <td>330877</td>\n",
       "      <td>8.4583</td>\n",
       "      <td>NaN</td>\n",
       "      <td>Q</td>\n",
       "    </tr>\n",
       "    <tr>\n",
       "      <th>6</th>\n",
       "      <td>7</td>\n",
       "      <td>0</td>\n",
       "      <td>1</td>\n",
       "      <td>McCarthy, Mr. Timothy J</td>\n",
       "      <td>male</td>\n",
       "      <td>54.0</td>\n",
       "      <td>0</td>\n",
       "      <td>0</td>\n",
       "      <td>17463</td>\n",
       "      <td>51.8625</td>\n",
       "      <td>E46</td>\n",
       "      <td>S</td>\n",
       "    </tr>\n",
       "    <tr>\n",
       "      <th>7</th>\n",
       "      <td>8</td>\n",
       "      <td>0</td>\n",
       "      <td>3</td>\n",
       "      <td>Palsson, Master. Gosta Leonard</td>\n",
       "      <td>male</td>\n",
       "      <td>2.0</td>\n",
       "      <td>3</td>\n",
       "      <td>1</td>\n",
       "      <td>349909</td>\n",
       "      <td>21.0750</td>\n",
       "      <td>NaN</td>\n",
       "      <td>S</td>\n",
       "    </tr>\n",
       "    <tr>\n",
       "      <th>8</th>\n",
       "      <td>9</td>\n",
       "      <td>1</td>\n",
       "      <td>3</td>\n",
       "      <td>Johnson, Mrs. Oscar W (Elisabeth Vilhelmina Berg)</td>\n",
       "      <td>female</td>\n",
       "      <td>27.0</td>\n",
       "      <td>0</td>\n",
       "      <td>2</td>\n",
       "      <td>347742</td>\n",
       "      <td>11.1333</td>\n",
       "      <td>NaN</td>\n",
       "      <td>S</td>\n",
       "    </tr>\n",
       "    <tr>\n",
       "      <th>9</th>\n",
       "      <td>10</td>\n",
       "      <td>1</td>\n",
       "      <td>2</td>\n",
       "      <td>Nasser, Mrs. Nicholas (Adele Achem)</td>\n",
       "      <td>female</td>\n",
       "      <td>14.0</td>\n",
       "      <td>1</td>\n",
       "      <td>0</td>\n",
       "      <td>237736</td>\n",
       "      <td>30.0708</td>\n",
       "      <td>NaN</td>\n",
       "      <td>C</td>\n",
       "    </tr>\n",
       "  </tbody>\n",
       "</table>\n",
       "</div>"
      ],
      "text/plain": [
       "   PassengerId  Survived  Pclass  \\\n",
       "0            1         0       3   \n",
       "1            2         1       1   \n",
       "2            3         1       3   \n",
       "3            4         1       1   \n",
       "4            5         0       3   \n",
       "5            6         0       3   \n",
       "6            7         0       1   \n",
       "7            8         0       3   \n",
       "8            9         1       3   \n",
       "9           10         1       2   \n",
       "\n",
       "                                                Name     Sex   Age  SibSp  \\\n",
       "0                            Braund, Mr. Owen Harris    male  22.0      1   \n",
       "1  Cumings, Mrs. John Bradley (Florence Briggs Th...  female  38.0      1   \n",
       "2                             Heikkinen, Miss. Laina  female  26.0      0   \n",
       "3       Futrelle, Mrs. Jacques Heath (Lily May Peel)  female  35.0      1   \n",
       "4                           Allen, Mr. William Henry    male  35.0      0   \n",
       "5                                   Moran, Mr. James    male   NaN      0   \n",
       "6                            McCarthy, Mr. Timothy J    male  54.0      0   \n",
       "7                     Palsson, Master. Gosta Leonard    male   2.0      3   \n",
       "8  Johnson, Mrs. Oscar W (Elisabeth Vilhelmina Berg)  female  27.0      0   \n",
       "9                Nasser, Mrs. Nicholas (Adele Achem)  female  14.0      1   \n",
       "\n",
       "   Parch            Ticket     Fare Cabin Embarked  \n",
       "0      0         A/5 21171   7.2500   NaN        S  \n",
       "1      0          PC 17599  71.2833   C85        C  \n",
       "2      0  STON/O2. 3101282   7.9250   NaN        S  \n",
       "3      0            113803  53.1000  C123        S  \n",
       "4      0            373450   8.0500   NaN        S  \n",
       "5      0            330877   8.4583   NaN        Q  \n",
       "6      0             17463  51.8625   E46        S  \n",
       "7      1            349909  21.0750   NaN        S  \n",
       "8      2            347742  11.1333   NaN        S  \n",
       "9      0            237736  30.0708   NaN        C  "
      ]
     },
     "execution_count": 8,
     "metadata": {},
     "output_type": "execute_result"
    }
   ],
   "source": [
    "titanic_df.head(10)"
   ]
  },
  {
   "cell_type": "code",
   "execution_count": 9,
   "id": "d1fc947c",
   "metadata": {},
   "outputs": [
    {
     "data": {
      "text/plain": [
       "male      577\n",
       "female    314\n",
       "Name: Sex, dtype: int64"
      ]
     },
     "execution_count": 9,
     "metadata": {},
     "output_type": "execute_result"
    }
   ],
   "source": [
    "titanic_df['Sex'].value_counts()"
   ]
  },
  {
   "cell_type": "code",
   "execution_count": 10,
   "id": "8bedb9cb",
   "metadata": {},
   "outputs": [],
   "source": [
    "titanic_df_groupby_survived =titanic_df.groupby('Survived')"
   ]
  },
  {
   "cell_type": "code",
   "execution_count": 11,
   "id": "928e84c3",
   "metadata": {},
   "outputs": [
    {
     "data": {
      "text/plain": [
       "Survived\n",
       "0    549\n",
       "1    342\n",
       "dtype: int64"
      ]
     },
     "execution_count": 11,
     "metadata": {},
     "output_type": "execute_result"
    }
   ],
   "source": [
    "titanic_df_groupby_survived.size()"
   ]
  },
  {
   "cell_type": "code",
   "execution_count": 12,
   "id": "9cf92fff",
   "metadata": {},
   "outputs": [
    {
     "data": {
      "text/plain": [
       "Parch\n",
       "0    678\n",
       "1    118\n",
       "2     80\n",
       "3      5\n",
       "4      4\n",
       "5      5\n",
       "6      1\n",
       "dtype: int64"
      ]
     },
     "execution_count": 12,
     "metadata": {},
     "output_type": "execute_result"
    }
   ],
   "source": [
    "titanic_df_groupby_parch =titanic_df.groupby('Parch')\n",
    "titanic_df_groupby_parch.size()"
   ]
  },
  {
   "cell_type": "code",
   "execution_count": 13,
   "id": "d5ae16f7",
   "metadata": {},
   "outputs": [
    {
     "data": {
      "text/plain": [
       "Embarked\n",
       "C    168\n",
       "Q     77\n",
       "S    644\n",
       "dtype: int64"
      ]
     },
     "execution_count": 13,
     "metadata": {},
     "output_type": "execute_result"
    }
   ],
   "source": [
    "titanic_df_groupby_embarked =titanic_df.groupby('Embarked')\n",
    "titanic_df_groupby_embarked.size()"
   ]
  },
  {
   "cell_type": "markdown",
   "id": "53abc06b",
   "metadata": {},
   "source": [
    "A. Questions about features (Predictors)\n",
    "\n",
    "Is the size of the group a determinant factor in the survival of the accident?\n",
    "How is survival influenced based on passenger class?\n",
    "How does age influence survival?"
   ]
  },
  {
   "cell_type": "code",
   "execution_count": 14,
   "id": "3576bfe1",
   "metadata": {},
   "outputs": [
    {
     "data": {
      "text/plain": [
       "SibSp\n",
       "0    608\n",
       "1    209\n",
       "2     28\n",
       "3     16\n",
       "4     18\n",
       "5      5\n",
       "8      7\n",
       "dtype: int64"
      ]
     },
     "execution_count": 14,
     "metadata": {},
     "output_type": "execute_result"
    }
   ],
   "source": [
    "titanic_df_groupby_sibsp =titanic_df.groupby('SibSp')\n",
    "titanic_df_groupby_sibsp.size()"
   ]
  },
  {
   "cell_type": "code",
   "execution_count": 15,
   "id": "226b66e1",
   "metadata": {
    "scrolled": true
   },
   "outputs": [
    {
     "data": {
      "text/html": [
       "<div>\n",
       "<style scoped>\n",
       "    .dataframe tbody tr th:only-of-type {\n",
       "        vertical-align: middle;\n",
       "    }\n",
       "\n",
       "    .dataframe tbody tr th {\n",
       "        vertical-align: top;\n",
       "    }\n",
       "\n",
       "    .dataframe thead th {\n",
       "        text-align: right;\n",
       "    }\n",
       "</style>\n",
       "<table border=\"1\" class=\"dataframe\">\n",
       "  <thead>\n",
       "    <tr style=\"text-align: right;\">\n",
       "      <th></th>\n",
       "      <th>SibSp</th>\n",
       "      <th>Survived</th>\n",
       "    </tr>\n",
       "  </thead>\n",
       "  <tbody>\n",
       "    <tr>\n",
       "      <th>0</th>\n",
       "      <td>0</td>\n",
       "      <td>210</td>\n",
       "    </tr>\n",
       "    <tr>\n",
       "      <th>1</th>\n",
       "      <td>1</td>\n",
       "      <td>112</td>\n",
       "    </tr>\n",
       "    <tr>\n",
       "      <th>2</th>\n",
       "      <td>2</td>\n",
       "      <td>13</td>\n",
       "    </tr>\n",
       "    <tr>\n",
       "      <th>3</th>\n",
       "      <td>3</td>\n",
       "      <td>4</td>\n",
       "    </tr>\n",
       "    <tr>\n",
       "      <th>4</th>\n",
       "      <td>4</td>\n",
       "      <td>3</td>\n",
       "    </tr>\n",
       "    <tr>\n",
       "      <th>5</th>\n",
       "      <td>5</td>\n",
       "      <td>0</td>\n",
       "    </tr>\n",
       "    <tr>\n",
       "      <th>6</th>\n",
       "      <td>8</td>\n",
       "      <td>0</td>\n",
       "    </tr>\n",
       "  </tbody>\n",
       "</table>\n",
       "</div>"
      ],
      "text/plain": [
       "   SibSp  Survived\n",
       "0      0       210\n",
       "1      1       112\n",
       "2      2        13\n",
       "3      3         4\n",
       "4      4         3\n",
       "5      5         0\n",
       "6      8         0"
      ]
     },
     "execution_count": 15,
     "metadata": {},
     "output_type": "execute_result"
    }
   ],
   "source": [
    "titanic_df[['SibSp', 'Survived']].groupby(['SibSp'], as_index = False).sum()"
   ]
  },
  {
   "cell_type": "code",
   "execution_count": 16,
   "id": "4b3ebb68",
   "metadata": {
    "scrolled": true
   },
   "outputs": [
    {
     "data": {
      "text/html": [
       "<div>\n",
       "<style scoped>\n",
       "    .dataframe tbody tr th:only-of-type {\n",
       "        vertical-align: middle;\n",
       "    }\n",
       "\n",
       "    .dataframe tbody tr th {\n",
       "        vertical-align: top;\n",
       "    }\n",
       "\n",
       "    .dataframe thead th {\n",
       "        text-align: right;\n",
       "    }\n",
       "</style>\n",
       "<table border=\"1\" class=\"dataframe\">\n",
       "  <thead>\n",
       "    <tr style=\"text-align: right;\">\n",
       "      <th></th>\n",
       "      <th>SibSp</th>\n",
       "      <th>Survived</th>\n",
       "    </tr>\n",
       "  </thead>\n",
       "  <tbody>\n",
       "    <tr>\n",
       "      <th>0</th>\n",
       "      <td>0</td>\n",
       "      <td>0.345395</td>\n",
       "    </tr>\n",
       "    <tr>\n",
       "      <th>1</th>\n",
       "      <td>1</td>\n",
       "      <td>0.535885</td>\n",
       "    </tr>\n",
       "    <tr>\n",
       "      <th>2</th>\n",
       "      <td>2</td>\n",
       "      <td>0.464286</td>\n",
       "    </tr>\n",
       "    <tr>\n",
       "      <th>3</th>\n",
       "      <td>3</td>\n",
       "      <td>0.250000</td>\n",
       "    </tr>\n",
       "    <tr>\n",
       "      <th>4</th>\n",
       "      <td>4</td>\n",
       "      <td>0.166667</td>\n",
       "    </tr>\n",
       "    <tr>\n",
       "      <th>5</th>\n",
       "      <td>5</td>\n",
       "      <td>0.000000</td>\n",
       "    </tr>\n",
       "    <tr>\n",
       "      <th>6</th>\n",
       "      <td>8</td>\n",
       "      <td>0.000000</td>\n",
       "    </tr>\n",
       "  </tbody>\n",
       "</table>\n",
       "</div>"
      ],
      "text/plain": [
       "   SibSp  Survived\n",
       "0      0  0.345395\n",
       "1      1  0.535885\n",
       "2      2  0.464286\n",
       "3      3  0.250000\n",
       "4      4  0.166667\n",
       "5      5  0.000000\n",
       "6      8  0.000000"
      ]
     },
     "execution_count": 16,
     "metadata": {},
     "output_type": "execute_result"
    }
   ],
   "source": [
    "titanic_df[['SibSp', 'Survived']].groupby(['SibSp'], as_index = False).mean()"
   ]
  },
  {
   "cell_type": "code",
   "execution_count": 17,
   "id": "64920404",
   "metadata": {},
   "outputs": [
    {
     "data": {
      "image/png": "[encoded data removed]",
      "text/plain": [
       "<Figure size 360x360 with 1 Axes>"
      ]
     },
     "metadata": {
      "needs_background": "light"
     },
     "output_type": "display_data"
    }
   ],
   "source": [
    "axes = sns.relplot(x=\"SibSp\", y=\"Survived\", kind=\"line\", ci=None, data=titanic_df)"
   ]
  },
  {
   "cell_type": "markdown",
   "id": "69a33a5a",
   "metadata": {},
   "source": [
    "People with one family member seems like the hiest possibilyty to survive.\n",
    "Big group couldn't survive."
   ]
  },
  {
   "cell_type": "markdown",
   "id": "e2a556f4",
   "metadata": {},
   "source": [
    "How is survival influenced based on passenger class?"
   ]
  },
  {
   "cell_type": "code",
   "execution_count": 18,
   "id": "f57e2eae",
   "metadata": {},
   "outputs": [
    {
     "data": {
      "text/html": [
       "<div>\n",
       "<style scoped>\n",
       "    .dataframe tbody tr th:only-of-type {\n",
       "        vertical-align: middle;\n",
       "    }\n",
       "\n",
       "    .dataframe tbody tr th {\n",
       "        vertical-align: top;\n",
       "    }\n",
       "\n",
       "    .dataframe thead th {\n",
       "        text-align: right;\n",
       "    }\n",
       "</style>\n",
       "<table border=\"1\" class=\"dataframe\">\n",
       "  <thead>\n",
       "    <tr style=\"text-align: right;\">\n",
       "      <th></th>\n",
       "      <th>Pclass</th>\n",
       "      <th>Survived</th>\n",
       "    </tr>\n",
       "  </thead>\n",
       "  <tbody>\n",
       "    <tr>\n",
       "      <th>0</th>\n",
       "      <td>1</td>\n",
       "      <td>136</td>\n",
       "    </tr>\n",
       "    <tr>\n",
       "      <th>1</th>\n",
       "      <td>2</td>\n",
       "      <td>87</td>\n",
       "    </tr>\n",
       "    <tr>\n",
       "      <th>2</th>\n",
       "      <td>3</td>\n",
       "      <td>119</td>\n",
       "    </tr>\n",
       "  </tbody>\n",
       "</table>\n",
       "</div>"
      ],
      "text/plain": [
       "   Pclass  Survived\n",
       "0       1       136\n",
       "1       2        87\n",
       "2       3       119"
      ]
     },
     "execution_count": 18,
     "metadata": {},
     "output_type": "execute_result"
    }
   ],
   "source": [
    "titanic_df[['Pclass', 'Survived']].groupby(['Pclass'], as_index = False).sum()"
   ]
  },
  {
   "cell_type": "code",
   "execution_count": 19,
   "id": "f62310af",
   "metadata": {},
   "outputs": [
    {
     "data": {
      "text/html": [
       "<div>\n",
       "<style scoped>\n",
       "    .dataframe tbody tr th:only-of-type {\n",
       "        vertical-align: middle;\n",
       "    }\n",
       "\n",
       "    .dataframe tbody tr th {\n",
       "        vertical-align: top;\n",
       "    }\n",
       "\n",
       "    .dataframe thead th {\n",
       "        text-align: right;\n",
       "    }\n",
       "</style>\n",
       "<table border=\"1\" class=\"dataframe\">\n",
       "  <thead>\n",
       "    <tr style=\"text-align: right;\">\n",
       "      <th></th>\n",
       "      <th>Pclass</th>\n",
       "      <th>Survived</th>\n",
       "    </tr>\n",
       "  </thead>\n",
       "  <tbody>\n",
       "    <tr>\n",
       "      <th>0</th>\n",
       "      <td>1</td>\n",
       "      <td>0.629630</td>\n",
       "    </tr>\n",
       "    <tr>\n",
       "      <th>1</th>\n",
       "      <td>2</td>\n",
       "      <td>0.472826</td>\n",
       "    </tr>\n",
       "    <tr>\n",
       "      <th>2</th>\n",
       "      <td>3</td>\n",
       "      <td>0.242363</td>\n",
       "    </tr>\n",
       "  </tbody>\n",
       "</table>\n",
       "</div>"
      ],
      "text/plain": [
       "   Pclass  Survived\n",
       "0       1  0.629630\n",
       "1       2  0.472826\n",
       "2       3  0.242363"
      ]
     },
     "execution_count": 19,
     "metadata": {},
     "output_type": "execute_result"
    }
   ],
   "source": [
    "titanic_df[['Pclass', 'Survived']].groupby(['Pclass'], as_index = False).mean()"
   ]
  },
  {
   "cell_type": "markdown",
   "id": "d366abd3",
   "metadata": {},
   "source": [
    "Higher class, higher survival rate."
   ]
  },
  {
   "cell_type": "markdown",
   "id": "16586853",
   "metadata": {},
   "source": [
    "How does age influence survival?"
   ]
  },
  {
   "cell_type": "code",
   "execution_count": 20,
   "id": "182888d1",
   "metadata": {
    "scrolled": true
   },
   "outputs": [
    {
     "data": {
      "text/plain": [
       "Text(0.5, 1.0, 'age_survivalrate')"
      ]
     },
     "execution_count": 20,
     "metadata": {},
     "output_type": "execute_result"
    },
    {
     "data": {
      "image/png": "[encoded data removed]",
      "text/plain": [
       "<Figure size 720x288 with 1 Axes>"
      ]
     },
     "metadata": {
      "needs_background": "light"
     },
     "output_type": "display_data"
    }
   ],
   "source": [
    "survived = 'survived'\n",
    "not_survived = 'not survived'\n",
    "\n",
    "fig, axes = plt.subplots(nrows=1, ncols=1, figsize=(10, 4))\n",
    "ax = sns.histplot(titanic_df[titanic_df['Survived']==1].Age.dropna(), bins=30, \n",
    "                  label=survived, kde=False, color=\"r\", alpha=0.5)\n",
    "ax = sns.histplot(titanic_df[titanic_df['Survived']==0].Age.dropna(), bins=30, \n",
    "                  label=not_survived, kde=False, color=\"silver\", alpha=0.7)\n",
    "ax.legend()\n",
    "ax.set_title('age_survivalrate')"
   ]
  },
  {
   "cell_type": "code",
   "execution_count": 21,
   "id": "f64ecc6f",
   "metadata": {},
   "outputs": [
    {
     "data": {
      "text/plain": [
       "Text(0.5, 1.0, 'Age_Survived')"
      ]
     },
     "execution_count": 21,
     "metadata": {},
     "output_type": "execute_result"
    },
    {
     "data": {
      "image/png": "[encoded data removed]",
      "text/plain": [
       "<Figure size 576x396 with 1 Axes>"
      ]
     },
     "metadata": {
      "needs_background": "light"
     },
     "output_type": "display_data"
    }
   ],
   "source": [
    "plt.scatter(titanic_df.Survived, titanic_df.Age, alpha=0.1)  \n",
    "plt.title(\"Age_Survived\")"
   ]
  },
  {
   "cell_type": "markdown",
   "id": "fb9f1765",
   "metadata": {},
   "source": [
    "From the graphs above, it seems like infants and toddler have higher survival rate than other selfworkable ages. \n",
    "Also most of the elderies couldn't survive or probably they priored to survive younger people. \n",
    "Therefore, I guess the infants and 80 years old who survived had the higher fare /Pclass, and age didn't effect a lot on the survival rate."
   ]
  },
  {
   "cell_type": "markdown",
   "id": "fd659366",
   "metadata": {},
   "source": [
    "B. Questions about ways to complete missing data.\n",
    "Can I use the person title listed in the ticket to estimate age?\n",
    "Can I use the passenger gender to estimate age?"
   ]
  },
  {
   "cell_type": "code",
   "execution_count": 22,
   "id": "52027b1a",
   "metadata": {
    "scrolled": false
   },
   "outputs": [
    {
     "data": {
      "text/plain": [
       "title\n",
       "Capt            70.0\n",
       "Col             58.0\n",
       "Don             40.0\n",
       "Dr              46.5\n",
       "Jonkheer        38.0\n",
       "Lady            48.0\n",
       "Major           48.5\n",
       "Master           3.5\n",
       "Miss            21.0\n",
       "Mlle            24.0\n",
       "Mme             24.0\n",
       "Mr              30.0\n",
       "Mrs             35.0\n",
       "Ms              28.0\n",
       "Rev             46.5\n",
       "Sir             49.0\n",
       "the Countess    33.0\n",
       "Name: Age, dtype: float64"
      ]
     },
     "execution_count": 22,
     "metadata": {},
     "output_type": "execute_result"
    }
   ],
   "source": [
    "titanic_df['title'] =  titanic_df.Name.apply(lambda name: name.split(',')[1].split('.')[0].strip())\n",
    "test_df['title'] =  test_df.Name.apply(lambda name: name.split(',')[1].split('.')[0].strip())\n",
    "grouped_title = titanic_df.groupby(['title'])\n",
    "grouped_title.Age.median()"
   ]
  },
  {
   "cell_type": "code",
   "execution_count": 23,
   "id": "78e3a7fd",
   "metadata": {},
   "outputs": [
    {
     "data": {
      "image/png": "[encoded data removed]",
      "text/plain": [
       "<Figure size 576x396 with 1 Axes>"
      ]
     },
     "metadata": {
      "needs_background": "light"
     },
     "output_type": "display_data"
    }
   ],
   "source": [
    "ax = sns.violinplot(y=\"title\", x=\"Age\", palette='pastel', data=titanic_df, saturation=0.5, scale=\"width\")\n"
   ]
  },
  {
   "cell_type": "markdown",
   "id": "5d12e255",
   "metadata": {},
   "source": [
    "For \"Master\", \"Major\", \"Col\", I can use the person title to estimate the age. However, I cannot use \"Mr\", \"Mrs\", \"Miss\",\"Rev\", \"Dr\" to eatimate age because the range is over the generations. \"Don\", \"Mme\", \"Ms\", \"Lady\", \"Sir\", \"Mlle\", \"Capt\", \"the Cauntess\", \"Jpnkheer\" doesn't have enough samples to conclude whether I can use or not."
   ]
  },
  {
   "cell_type": "code",
   "execution_count": 24,
   "id": "808af6d0",
   "metadata": {},
   "outputs": [
    {
     "data": {
      "image/png": "[encoded data removed]",
      "text/plain": [
       "<Figure size 576x396 with 1 Axes>"
      ]
     },
     "metadata": {
      "needs_background": "light"
     },
     "output_type": "display_data"
    }
   ],
   "source": [
    "ax = sns.violinplot(y=\"Sex\", x=\"Age\", palette='pastel', data=titanic_df, saturation=0.5, scale=\"width\")\n"
   ]
  },
  {
   "cell_type": "markdown",
   "id": "277cab83",
   "metadata": {},
   "source": [
    "Both males and females ages' range is wide. I connot estimate the age from gender."
   ]
  },
  {
   "cell_type": "markdown",
   "id": "a6294f4b",
   "metadata": {},
   "source": [
    "C. Map two feature against survival\n",
    "\n",
    "How can we see the effect of 'Group size' and 'Age' on chances of survival?"
   ]
  },
  {
   "cell_type": "code",
   "execution_count": 25,
   "id": "7101100e",
   "metadata": {},
   "outputs": [
    {
     "data": {
      "text/plain": [
       "<AxesSubplot:xlabel='SibSp', ylabel='Age'>"
      ]
     },
     "execution_count": 25,
     "metadata": {},
     "output_type": "execute_result"
    },
    {
     "data": {
      "image/png": "[encoded data removed]",
      "text/plain": [
       "<Figure size 1080x360 with 1 Axes>"
      ]
     },
     "metadata": {
      "needs_background": "light"
     },
     "output_type": "display_data"
    }
   ],
   "source": [
    "fig = plt.figure(figsize=(15,5))\n",
    "ax1 = fig.add_subplot(131)\n",
    "\n",
    "custom_colors = [\"#e76c6c\",\"#a5a5d9\"]\n",
    "pastel = 'pastel'\n",
    "sns.violinplot(\n",
    "    x=\"SibSp\", y=\"Age\", hue=\"Survived\", data=titanic_df, split=True, ax=ax1, \n",
    "    palette=custom_colors, \n",
    "    saturation=0.5)"
   ]
  },
  {
   "cell_type": "markdown",
   "id": "90c76900",
   "metadata": {},
   "source": [
    "From the graph above, obviously, bigger groups are younger. However, as same results as I explored at SectionA, bigger groups are hardly survived. Thus, this result supports the hypothesis which I had from SectionA that Pclass or Fare have more influences on the survival rate rather than age does."
   ]
  },
  {
   "cell_type": "markdown",
   "id": "ddf7f5ae",
   "metadata": {},
   "source": [
    "Section 2. Feature Engineering\n",
    "\n",
    "A. Creating new features\n",
    "Can I use ticket information to generate information about the passenger's location on the ship?\n",
    "Can we extract information about the title to assign passengers into groups like 'members of clergy,' 'widows,' 'soldiers,' etc.?\n"
   ]
  },
  {
   "cell_type": "code",
   "execution_count": 26,
   "id": "f866669f",
   "metadata": {},
   "outputs": [
    {
     "data": {
      "text/html": [
       "<div>\n",
       "<style scoped>\n",
       "    .dataframe tbody tr th:only-of-type {\n",
       "        vertical-align: middle;\n",
       "    }\n",
       "\n",
       "    .dataframe tbody tr th {\n",
       "        vertical-align: top;\n",
       "    }\n",
       "\n",
       "    .dataframe thead th {\n",
       "        text-align: right;\n",
       "    }\n",
       "</style>\n",
       "<table border=\"1\" class=\"dataframe\">\n",
       "  <thead>\n",
       "    <tr style=\"text-align: right;\">\n",
       "      <th></th>\n",
       "      <th>Pclass</th>\n",
       "      <th>Ticket</th>\n",
       "      <th>Cabin</th>\n",
       "      <th>Fare</th>\n",
       "      <th>Embarked</th>\n",
       "    </tr>\n",
       "  </thead>\n",
       "  <tbody>\n",
       "    <tr>\n",
       "      <th>0</th>\n",
       "      <td>3</td>\n",
       "      <td>A/5 21171</td>\n",
       "      <td>NaN</td>\n",
       "      <td>7.2500</td>\n",
       "      <td>S</td>\n",
       "    </tr>\n",
       "    <tr>\n",
       "      <th>1</th>\n",
       "      <td>1</td>\n",
       "      <td>PC 17599</td>\n",
       "      <td>C85</td>\n",
       "      <td>71.2833</td>\n",
       "      <td>C</td>\n",
       "    </tr>\n",
       "    <tr>\n",
       "      <th>2</th>\n",
       "      <td>3</td>\n",
       "      <td>STON/O2. 3101282</td>\n",
       "      <td>NaN</td>\n",
       "      <td>7.9250</td>\n",
       "      <td>S</td>\n",
       "    </tr>\n",
       "    <tr>\n",
       "      <th>3</th>\n",
       "      <td>1</td>\n",
       "      <td>113803</td>\n",
       "      <td>C123</td>\n",
       "      <td>53.1000</td>\n",
       "      <td>S</td>\n",
       "    </tr>\n",
       "    <tr>\n",
       "      <th>4</th>\n",
       "      <td>3</td>\n",
       "      <td>373450</td>\n",
       "      <td>NaN</td>\n",
       "      <td>8.0500</td>\n",
       "      <td>S</td>\n",
       "    </tr>\n",
       "    <tr>\n",
       "      <th>...</th>\n",
       "      <td>...</td>\n",
       "      <td>...</td>\n",
       "      <td>...</td>\n",
       "      <td>...</td>\n",
       "      <td>...</td>\n",
       "    </tr>\n",
       "    <tr>\n",
       "      <th>886</th>\n",
       "      <td>2</td>\n",
       "      <td>211536</td>\n",
       "      <td>NaN</td>\n",
       "      <td>13.0000</td>\n",
       "      <td>S</td>\n",
       "    </tr>\n",
       "    <tr>\n",
       "      <th>887</th>\n",
       "      <td>1</td>\n",
       "      <td>112053</td>\n",
       "      <td>B42</td>\n",
       "      <td>30.0000</td>\n",
       "      <td>S</td>\n",
       "    </tr>\n",
       "    <tr>\n",
       "      <th>888</th>\n",
       "      <td>3</td>\n",
       "      <td>W./C. 6607</td>\n",
       "      <td>NaN</td>\n",
       "      <td>23.4500</td>\n",
       "      <td>S</td>\n",
       "    </tr>\n",
       "    <tr>\n",
       "      <th>889</th>\n",
       "      <td>1</td>\n",
       "      <td>111369</td>\n",
       "      <td>C148</td>\n",
       "      <td>30.0000</td>\n",
       "      <td>C</td>\n",
       "    </tr>\n",
       "    <tr>\n",
       "      <th>890</th>\n",
       "      <td>3</td>\n",
       "      <td>370376</td>\n",
       "      <td>NaN</td>\n",
       "      <td>7.7500</td>\n",
       "      <td>Q</td>\n",
       "    </tr>\n",
       "  </tbody>\n",
       "</table>\n",
       "<p>891 rows × 5 columns</p>\n",
       "</div>"
      ],
      "text/plain": [
       "     Pclass            Ticket Cabin     Fare Embarked\n",
       "0         3         A/5 21171   NaN   7.2500        S\n",
       "1         1          PC 17599   C85  71.2833        C\n",
       "2         3  STON/O2. 3101282   NaN   7.9250        S\n",
       "3         1            113803  C123  53.1000        S\n",
       "4         3            373450   NaN   8.0500        S\n",
       "..      ...               ...   ...      ...      ...\n",
       "886       2            211536   NaN  13.0000        S\n",
       "887       1            112053   B42  30.0000        S\n",
       "888       3        W./C. 6607   NaN  23.4500        S\n",
       "889       1            111369  C148  30.0000        C\n",
       "890       3            370376   NaN   7.7500        Q\n",
       "\n",
       "[891 rows x 5 columns]"
      ]
     },
     "execution_count": 26,
     "metadata": {},
     "output_type": "execute_result"
    }
   ],
   "source": [
    "titanic_df[['Pclass','Ticket', 'Cabin','Fare','Embarked']]"
   ]
  },
  {
   "cell_type": "code",
   "execution_count": 27,
   "id": "73cfb383",
   "metadata": {},
   "outputs": [
    {
     "data": {
      "text/plain": [
       "0      U\n",
       "1      C\n",
       "2      U\n",
       "3      C\n",
       "4      U\n",
       "      ..\n",
       "886    U\n",
       "887    B\n",
       "888    U\n",
       "889    C\n",
       "890    U\n",
       "Name: Location, Length: 891, dtype: object"
      ]
     },
     "execution_count": 27,
     "metadata": {},
     "output_type": "execute_result"
    }
   ],
   "source": [
    "titanic_df['Cabin'] = titanic_df['Cabin'].fillna(\"U0\")\n",
    "titanic_df['Location'] =  titanic_df.Cabin.apply(lambda cabin: re.compile(\"([a-zA-Z])\").search(cabin).group())\n",
    "titanic_df['Location']"
   ]
  },
  {
   "cell_type": "code",
   "execution_count": 28,
   "id": "22fdb87d",
   "metadata": {},
   "outputs": [
    {
     "data": {
      "text/html": [
       "<div>\n",
       "<style scoped>\n",
       "    .dataframe tbody tr th:only-of-type {\n",
       "        vertical-align: middle;\n",
       "    }\n",
       "\n",
       "    .dataframe tbody tr th {\n",
       "        vertical-align: top;\n",
       "    }\n",
       "\n",
       "    .dataframe thead th {\n",
       "        text-align: right;\n",
       "    }\n",
       "</style>\n",
       "<table border=\"1\" class=\"dataframe\">\n",
       "  <thead>\n",
       "    <tr style=\"text-align: right;\">\n",
       "      <th></th>\n",
       "      <th>PassengerId</th>\n",
       "      <th>Survived</th>\n",
       "      <th>Pclass</th>\n",
       "      <th>Name</th>\n",
       "      <th>Sex</th>\n",
       "      <th>Age</th>\n",
       "      <th>SibSp</th>\n",
       "      <th>Parch</th>\n",
       "      <th>Ticket</th>\n",
       "      <th>Fare</th>\n",
       "      <th>Cabin</th>\n",
       "      <th>Embarked</th>\n",
       "      <th>title</th>\n",
       "      <th>Location</th>\n",
       "    </tr>\n",
       "  </thead>\n",
       "  <tbody>\n",
       "    <tr>\n",
       "      <th>0</th>\n",
       "      <td>1</td>\n",
       "      <td>0</td>\n",
       "      <td>3</td>\n",
       "      <td>Braund, Mr. Owen Harris</td>\n",
       "      <td>male</td>\n",
       "      <td>22.0</td>\n",
       "      <td>1</td>\n",
       "      <td>0</td>\n",
       "      <td>A/5 21171</td>\n",
       "      <td>7.2500</td>\n",
       "      <td>U0</td>\n",
       "      <td>S</td>\n",
       "      <td>Mr</td>\n",
       "      <td>U</td>\n",
       "    </tr>\n",
       "    <tr>\n",
       "      <th>1</th>\n",
       "      <td>2</td>\n",
       "      <td>1</td>\n",
       "      <td>1</td>\n",
       "      <td>Cumings, Mrs. John Bradley (Florence Briggs Th...</td>\n",
       "      <td>female</td>\n",
       "      <td>38.0</td>\n",
       "      <td>1</td>\n",
       "      <td>0</td>\n",
       "      <td>PC 17599</td>\n",
       "      <td>71.2833</td>\n",
       "      <td>C85</td>\n",
       "      <td>C</td>\n",
       "      <td>Mrs</td>\n",
       "      <td>C</td>\n",
       "    </tr>\n",
       "    <tr>\n",
       "      <th>2</th>\n",
       "      <td>3</td>\n",
       "      <td>1</td>\n",
       "      <td>3</td>\n",
       "      <td>Heikkinen, Miss. Laina</td>\n",
       "      <td>female</td>\n",
       "      <td>26.0</td>\n",
       "      <td>0</td>\n",
       "      <td>0</td>\n",
       "      <td>STON/O2. 3101282</td>\n",
       "      <td>7.9250</td>\n",
       "      <td>U0</td>\n",
       "      <td>S</td>\n",
       "      <td>Miss</td>\n",
       "      <td>U</td>\n",
       "    </tr>\n",
       "    <tr>\n",
       "      <th>3</th>\n",
       "      <td>4</td>\n",
       "      <td>1</td>\n",
       "      <td>1</td>\n",
       "      <td>Futrelle, Mrs. Jacques Heath (Lily May Peel)</td>\n",
       "      <td>female</td>\n",
       "      <td>35.0</td>\n",
       "      <td>1</td>\n",
       "      <td>0</td>\n",
       "      <td>113803</td>\n",
       "      <td>53.1000</td>\n",
       "      <td>C123</td>\n",
       "      <td>S</td>\n",
       "      <td>Mrs</td>\n",
       "      <td>C</td>\n",
       "    </tr>\n",
       "    <tr>\n",
       "      <th>4</th>\n",
       "      <td>5</td>\n",
       "      <td>0</td>\n",
       "      <td>3</td>\n",
       "      <td>Allen, Mr. William Henry</td>\n",
       "      <td>male</td>\n",
       "      <td>35.0</td>\n",
       "      <td>0</td>\n",
       "      <td>0</td>\n",
       "      <td>373450</td>\n",
       "      <td>8.0500</td>\n",
       "      <td>U0</td>\n",
       "      <td>S</td>\n",
       "      <td>Mr</td>\n",
       "      <td>U</td>\n",
       "    </tr>\n",
       "    <tr>\n",
       "      <th>5</th>\n",
       "      <td>6</td>\n",
       "      <td>0</td>\n",
       "      <td>3</td>\n",
       "      <td>Moran, Mr. James</td>\n",
       "      <td>male</td>\n",
       "      <td>NaN</td>\n",
       "      <td>0</td>\n",
       "      <td>0</td>\n",
       "      <td>330877</td>\n",
       "      <td>8.4583</td>\n",
       "      <td>U0</td>\n",
       "      <td>Q</td>\n",
       "      <td>Mr</td>\n",
       "      <td>U</td>\n",
       "    </tr>\n",
       "    <tr>\n",
       "      <th>6</th>\n",
       "      <td>7</td>\n",
       "      <td>0</td>\n",
       "      <td>1</td>\n",
       "      <td>McCarthy, Mr. Timothy J</td>\n",
       "      <td>male</td>\n",
       "      <td>54.0</td>\n",
       "      <td>0</td>\n",
       "      <td>0</td>\n",
       "      <td>17463</td>\n",
       "      <td>51.8625</td>\n",
       "      <td>E46</td>\n",
       "      <td>S</td>\n",
       "      <td>Mr</td>\n",
       "      <td>E</td>\n",
       "    </tr>\n",
       "    <tr>\n",
       "      <th>7</th>\n",
       "      <td>8</td>\n",
       "      <td>0</td>\n",
       "      <td>3</td>\n",
       "      <td>Palsson, Master. Gosta Leonard</td>\n",
       "      <td>male</td>\n",
       "      <td>2.0</td>\n",
       "      <td>3</td>\n",
       "      <td>1</td>\n",
       "      <td>349909</td>\n",
       "      <td>21.0750</td>\n",
       "      <td>U0</td>\n",
       "      <td>S</td>\n",
       "      <td>Master</td>\n",
       "      <td>U</td>\n",
       "    </tr>\n",
       "    <tr>\n",
       "      <th>8</th>\n",
       "      <td>9</td>\n",
       "      <td>1</td>\n",
       "      <td>3</td>\n",
       "      <td>Johnson, Mrs. Oscar W (Elisabeth Vilhelmina Berg)</td>\n",
       "      <td>female</td>\n",
       "      <td>27.0</td>\n",
       "      <td>0</td>\n",
       "      <td>2</td>\n",
       "      <td>347742</td>\n",
       "      <td>11.1333</td>\n",
       "      <td>U0</td>\n",
       "      <td>S</td>\n",
       "      <td>Mrs</td>\n",
       "      <td>U</td>\n",
       "    </tr>\n",
       "    <tr>\n",
       "      <th>9</th>\n",
       "      <td>10</td>\n",
       "      <td>1</td>\n",
       "      <td>2</td>\n",
       "      <td>Nasser, Mrs. Nicholas (Adele Achem)</td>\n",
       "      <td>female</td>\n",
       "      <td>14.0</td>\n",
       "      <td>1</td>\n",
       "      <td>0</td>\n",
       "      <td>237736</td>\n",
       "      <td>30.0708</td>\n",
       "      <td>U0</td>\n",
       "      <td>C</td>\n",
       "      <td>Mrs</td>\n",
       "      <td>U</td>\n",
       "    </tr>\n",
       "  </tbody>\n",
       "</table>\n",
       "</div>"
      ],
      "text/plain": [
       "   PassengerId  Survived  Pclass  \\\n",
       "0            1         0       3   \n",
       "1            2         1       1   \n",
       "2            3         1       3   \n",
       "3            4         1       1   \n",
       "4            5         0       3   \n",
       "5            6         0       3   \n",
       "6            7         0       1   \n",
       "7            8         0       3   \n",
       "8            9         1       3   \n",
       "9           10         1       2   \n",
       "\n",
       "                                                Name     Sex   Age  SibSp  \\\n",
       "0                            Braund, Mr. Owen Harris    male  22.0      1   \n",
       "1  Cumings, Mrs. John Bradley (Florence Briggs Th...  female  38.0      1   \n",
       "2                             Heikkinen, Miss. Laina  female  26.0      0   \n",
       "3       Futrelle, Mrs. Jacques Heath (Lily May Peel)  female  35.0      1   \n",
       "4                           Allen, Mr. William Henry    male  35.0      0   \n",
       "5                                   Moran, Mr. James    male   NaN      0   \n",
       "6                            McCarthy, Mr. Timothy J    male  54.0      0   \n",
       "7                     Palsson, Master. Gosta Leonard    male   2.0      3   \n",
       "8  Johnson, Mrs. Oscar W (Elisabeth Vilhelmina Berg)  female  27.0      0   \n",
       "9                Nasser, Mrs. Nicholas (Adele Achem)  female  14.0      1   \n",
       "\n",
       "   Parch            Ticket     Fare Cabin Embarked   title Location  \n",
       "0      0         A/5 21171   7.2500    U0        S      Mr        U  \n",
       "1      0          PC 17599  71.2833   C85        C     Mrs        C  \n",
       "2      0  STON/O2. 3101282   7.9250    U0        S    Miss        U  \n",
       "3      0            113803  53.1000  C123        S     Mrs        C  \n",
       "4      0            373450   8.0500    U0        S      Mr        U  \n",
       "5      0            330877   8.4583    U0        Q      Mr        U  \n",
       "6      0             17463  51.8625   E46        S      Mr        E  \n",
       "7      1            349909  21.0750    U0        S  Master        U  \n",
       "8      2            347742  11.1333    U0        S     Mrs        U  \n",
       "9      0            237736  30.0708    U0        C     Mrs        U  "
      ]
     },
     "execution_count": 28,
     "metadata": {},
     "output_type": "execute_result"
    }
   ],
   "source": [
    "titanic_df[titanic_df['Cabin'].notna()].head(10)"
   ]
  },
  {
   "cell_type": "markdown",
   "id": "78901946",
   "metadata": {},
   "source": [
    "Can we extract information about the title to assign passengers into groups like 'members of clergy,' 'widows,' 'soldiers,' etc.?\n"
   ]
  },
  {
   "cell_type": "code",
   "execution_count": 29,
   "id": "93393b04",
   "metadata": {
    "scrolled": true
   },
   "outputs": [
    {
     "data": {
      "text/plain": [
       "0      Layperson\n",
       "1      Layperson\n",
       "2      Layperson\n",
       "3      Layperson\n",
       "4      Layperson\n",
       "         ...    \n",
       "886       Clergy\n",
       "887    Layperson\n",
       "888    Layperson\n",
       "889    Layperson\n",
       "890    Layperson\n",
       "Name: titleGroup, Length: 891, dtype: object"
      ]
     },
     "execution_count": 29,
     "metadata": {},
     "output_type": "execute_result"
    }
   ],
   "source": [
    "normalized_titles = {\n",
    "    \"Capt\":       \"Soldiers\",\n",
    "    \"Col\":        \"Soldiers\",\n",
    "    \"Major\":      \"Soldiers\",\n",
    "    \n",
    "    \"Dr\":         \"Dr\",\n",
    "    \n",
    "    \"Jonkheer\":   \"Royalty\",\n",
    "    \"Don\":        \"Royalty\",\n",
    "    \"Dona\":       \"Royalty\",\n",
    "    \"Sir\" :       \"Royalty\",\n",
    "    \"Lady\" :      \"Royalty\",\n",
    "    \"the Countess\":\"Royalty\",\n",
    "    \n",
    "    \"Rev\":        \"Clergy\",\n",
    "    \n",
    "    \"Mme\":        \"Layperson\",\n",
    "    \"Mlle\":       \"Layperson\",\n",
    "    \"Ms\":         \"Layperson\",\n",
    "    \"Mr\" :        \"Layperson\",\n",
    "    \"Mrs\" :       \"Layperson\",\n",
    "    \"Miss\" :      \"Layperson\",\n",
    "    \"Master\" :    \"Layperson\"\n",
    "}\n",
    "\n",
    "titanic_df['titleGroup'] = titanic_df.title.map(normalized_titles)\n",
    "test_df['titleGroup'] = test_df.title.map(normalized_titles)\n",
    "titanic_df['titleGroup']"
   ]
  },
  {
   "cell_type": "markdown",
   "id": "9382c281",
   "metadata": {},
   "source": [
    "Section 3. Summarize the findings with plots.\n",
    "\n",
    "For each hypothesis, you have selected, create a visual representation to help confirm or reject the original premise."
   ]
  },
  {
   "cell_type": "code",
   "execution_count": 30,
   "id": "2230d47e",
   "metadata": {},
   "outputs": [
    {
     "data": {
      "text/html": [
       "<div>\n",
       "<style scoped>\n",
       "    .dataframe tbody tr th:only-of-type {\n",
       "        vertical-align: middle;\n",
       "    }\n",
       "\n",
       "    .dataframe tbody tr th {\n",
       "        vertical-align: top;\n",
       "    }\n",
       "\n",
       "    .dataframe thead th {\n",
       "        text-align: right;\n",
       "    }\n",
       "</style>\n",
       "<table border=\"1\" class=\"dataframe\">\n",
       "  <thead>\n",
       "    <tr style=\"text-align: right;\">\n",
       "      <th></th>\n",
       "      <th>title</th>\n",
       "      <th>Survived</th>\n",
       "    </tr>\n",
       "  </thead>\n",
       "  <tbody>\n",
       "    <tr>\n",
       "      <th>0</th>\n",
       "      <td>Capt</td>\n",
       "      <td>0.000000</td>\n",
       "    </tr>\n",
       "    <tr>\n",
       "      <th>1</th>\n",
       "      <td>Col</td>\n",
       "      <td>0.500000</td>\n",
       "    </tr>\n",
       "    <tr>\n",
       "      <th>2</th>\n",
       "      <td>Don</td>\n",
       "      <td>0.000000</td>\n",
       "    </tr>\n",
       "    <tr>\n",
       "      <th>3</th>\n",
       "      <td>Dr</td>\n",
       "      <td>0.428571</td>\n",
       "    </tr>\n",
       "    <tr>\n",
       "      <th>4</th>\n",
       "      <td>Jonkheer</td>\n",
       "      <td>0.000000</td>\n",
       "    </tr>\n",
       "    <tr>\n",
       "      <th>5</th>\n",
       "      <td>Lady</td>\n",
       "      <td>1.000000</td>\n",
       "    </tr>\n",
       "    <tr>\n",
       "      <th>6</th>\n",
       "      <td>Major</td>\n",
       "      <td>0.500000</td>\n",
       "    </tr>\n",
       "    <tr>\n",
       "      <th>7</th>\n",
       "      <td>Master</td>\n",
       "      <td>0.575000</td>\n",
       "    </tr>\n",
       "    <tr>\n",
       "      <th>8</th>\n",
       "      <td>Miss</td>\n",
       "      <td>0.697802</td>\n",
       "    </tr>\n",
       "    <tr>\n",
       "      <th>9</th>\n",
       "      <td>Mlle</td>\n",
       "      <td>1.000000</td>\n",
       "    </tr>\n",
       "    <tr>\n",
       "      <th>10</th>\n",
       "      <td>Mme</td>\n",
       "      <td>1.000000</td>\n",
       "    </tr>\n",
       "    <tr>\n",
       "      <th>11</th>\n",
       "      <td>Mr</td>\n",
       "      <td>0.156673</td>\n",
       "    </tr>\n",
       "    <tr>\n",
       "      <th>12</th>\n",
       "      <td>Mrs</td>\n",
       "      <td>0.792000</td>\n",
       "    </tr>\n",
       "    <tr>\n",
       "      <th>13</th>\n",
       "      <td>Ms</td>\n",
       "      <td>1.000000</td>\n",
       "    </tr>\n",
       "    <tr>\n",
       "      <th>14</th>\n",
       "      <td>Rev</td>\n",
       "      <td>0.000000</td>\n",
       "    </tr>\n",
       "    <tr>\n",
       "      <th>15</th>\n",
       "      <td>Sir</td>\n",
       "      <td>1.000000</td>\n",
       "    </tr>\n",
       "    <tr>\n",
       "      <th>16</th>\n",
       "      <td>the Countess</td>\n",
       "      <td>1.000000</td>\n",
       "    </tr>\n",
       "  </tbody>\n",
       "</table>\n",
       "</div>"
      ],
      "text/plain": [
       "           title  Survived\n",
       "0           Capt  0.000000\n",
       "1            Col  0.500000\n",
       "2            Don  0.000000\n",
       "3             Dr  0.428571\n",
       "4       Jonkheer  0.000000\n",
       "5           Lady  1.000000\n",
       "6          Major  0.500000\n",
       "7         Master  0.575000\n",
       "8           Miss  0.697802\n",
       "9           Mlle  1.000000\n",
       "10           Mme  1.000000\n",
       "11            Mr  0.156673\n",
       "12           Mrs  0.792000\n",
       "13            Ms  1.000000\n",
       "14           Rev  0.000000\n",
       "15           Sir  1.000000\n",
       "16  the Countess  1.000000"
      ]
     },
     "execution_count": 30,
     "metadata": {},
     "output_type": "execute_result"
    }
   ],
   "source": [
    "titanic_df[['title', 'Survived']].groupby(['title'], as_index = False).mean()"
   ]
  },
  {
   "cell_type": "code",
   "execution_count": 31,
   "id": "28c5e026",
   "metadata": {},
   "outputs": [
    {
     "data": {
      "text/html": [
       "<div>\n",
       "<style scoped>\n",
       "    .dataframe tbody tr th:only-of-type {\n",
       "        vertical-align: middle;\n",
       "    }\n",
       "\n",
       "    .dataframe tbody tr th {\n",
       "        vertical-align: top;\n",
       "    }\n",
       "\n",
       "    .dataframe thead th {\n",
       "        text-align: right;\n",
       "    }\n",
       "</style>\n",
       "<table border=\"1\" class=\"dataframe\">\n",
       "  <thead>\n",
       "    <tr style=\"text-align: right;\">\n",
       "      <th></th>\n",
       "      <th>titleGroup</th>\n",
       "      <th>Survived</th>\n",
       "    </tr>\n",
       "  </thead>\n",
       "  <tbody>\n",
       "    <tr>\n",
       "      <th>0</th>\n",
       "      <td>Clergy</td>\n",
       "      <td>0.000000</td>\n",
       "    </tr>\n",
       "    <tr>\n",
       "      <th>1</th>\n",
       "      <td>Dr</td>\n",
       "      <td>0.428571</td>\n",
       "    </tr>\n",
       "    <tr>\n",
       "      <th>2</th>\n",
       "      <td>Layperson</td>\n",
       "      <td>0.384793</td>\n",
       "    </tr>\n",
       "    <tr>\n",
       "      <th>3</th>\n",
       "      <td>Royalty</td>\n",
       "      <td>0.600000</td>\n",
       "    </tr>\n",
       "    <tr>\n",
       "      <th>4</th>\n",
       "      <td>Soldiers</td>\n",
       "      <td>0.400000</td>\n",
       "    </tr>\n",
       "  </tbody>\n",
       "</table>\n",
       "</div>"
      ],
      "text/plain": [
       "  titleGroup  Survived\n",
       "0     Clergy  0.000000\n",
       "1         Dr  0.428571\n",
       "2  Layperson  0.384793\n",
       "3    Royalty  0.600000\n",
       "4   Soldiers  0.400000"
      ]
     },
     "execution_count": 31,
     "metadata": {},
     "output_type": "execute_result"
    }
   ],
   "source": [
    "titanic_df[['titleGroup', 'Survived']].groupby(['titleGroup'], as_index = False).mean()"
   ]
  },
  {
   "cell_type": "code",
   "execution_count": 32,
   "id": "d36d73d6",
   "metadata": {},
   "outputs": [
    {
     "data": {
      "image/png": "[encoded data removed]",
      "text/plain": [
       "<Figure size 360x360 with 1 Axes>"
      ]
     },
     "metadata": {
      "needs_background": "light"
     },
     "output_type": "display_data"
    }
   ],
   "source": [
    "axes = sns.relplot(x=\"titleGroup\", y=\"Survived\", kind=\"line\", ci=None, data=titanic_df)"
   ]
  },
  {
   "cell_type": "markdown",
   "id": "dfdf1a01",
   "metadata": {},
   "source": [
    "People who works for God didn't survive. Title has a big influence on the survival rate. \n",
    "Military's survival rate is higher than layperson, I guess they know how to swim beter than others and touher,but is there another reason too? "
   ]
  },
  {
   "cell_type": "code",
   "execution_count": 33,
   "id": "08dd59ba",
   "metadata": {},
   "outputs": [
    {
     "data": {
      "image/png": "[encoded data removed]",
      "text/plain": [
       "<Figure size 576x288 with 1 Axes>"
      ]
     },
     "metadata": {},
     "output_type": "display_data"
    }
   ],
   "source": [
    "sns.set(style=\"whitegrid\", color_codes=True)\n",
    "x=\"titleGroup\"; y=\"Pclass\"\n",
    "plt.figure(figsize=(8,4))\n",
    "sns.stripplot(x=x, y=y, data=titanic_df, \n",
    "              jitter=0.2, \n",
    "              dodge=True,\n",
    "              size=3)\n",
    "plt.xlabel(x, fontsize=13)\n",
    "plt.ylabel(y, fontsize=13)\n",
    "plt.show();"
   ]
  },
  {
   "cell_type": "markdown",
   "id": "33e1ac24",
   "metadata": {},
   "source": [
    "Yes, there's another reason as you see the plot above, all of them were in first class.\n",
    "Considering about Royals' high survival rate who also only in first class, militaly people's survival rate seems ralatively low.\n",
    "I can assume the same reason as clergies had done."
   ]
  },
  {
   "cell_type": "code",
   "execution_count": 34,
   "id": "fffb8104",
   "metadata": {},
   "outputs": [
    {
     "data": {
      "text/plain": [
       "<AxesSubplot:xlabel='SibSp', ylabel='Fare'>"
      ]
     },
     "execution_count": 34,
     "metadata": {},
     "output_type": "execute_result"
    },
    {
     "data": {
      "image/png": "[encoded data removed]",
      "text/plain": [
       "<Figure size 1080x360 with 1 Axes>"
      ]
     },
     "metadata": {},
     "output_type": "display_data"
    },
    {
     "data": {
      "image/png": "[encoded data removed]",
      "text/plain": [
       "<Figure size 1440x360 with 1 Axes>"
      ]
     },
     "metadata": {},
     "output_type": "display_data"
    }
   ],
   "source": [
    "#Relation between family size and title\n",
    "fig = plt.figure(figsize=(15,5))\n",
    "ax1 = fig.add_subplot(131)\n",
    "\n",
    "custom_colors = [\"#e76c6c\",\"#a5a5d9\"]\n",
    "pastel = 'pastel'\n",
    "sns.violinplot(\n",
    "    x=\"titleGroup\", y=\"SibSp\", hue=\"Survived\", data=titanic_df, split=True, ax=ax1, \n",
    "    palette=custom_colors, \n",
    "    saturation=0.5)\n",
    "\n",
    "#Relation between family size and fare\n",
    "fig = plt.figure(figsize=(20,5))\n",
    "ax1 = fig.add_subplot(131)\n",
    "\n",
    "custom_colors = [\"#e76c6c\",\"#a5a5d9\"]\n",
    "pastel = 'pastel'\n",
    "sns.violinplot(\n",
    "    x=\"SibSp\", y=\"Fare\", hue=\"Survived\", data=titanic_df, split=True, ax=ax1, \n",
    "    palette=custom_colors, \n",
    "    saturation=0.5)"
   ]
  },
  {
   "cell_type": "markdown",
   "id": "649f7fea",
   "metadata": {},
   "source": [
    "SibSp3 has an unique shape. The violinplot for the relation between SbSp, Age and survival had an unique shape, too(Section1.C).\n",
    "What makes it unexpected shape?Let's see the details who were having 3family members."
   ]
  },
  {
   "cell_type": "code",
   "execution_count": 35,
   "id": "1497923d",
   "metadata": {},
   "outputs": [
    {
     "data": {
      "text/html": [
       "<div>\n",
       "<style scoped>\n",
       "    .dataframe tbody tr th:only-of-type {\n",
       "        vertical-align: middle;\n",
       "    }\n",
       "\n",
       "    .dataframe tbody tr th {\n",
       "        vertical-align: top;\n",
       "    }\n",
       "\n",
       "    .dataframe thead th {\n",
       "        text-align: right;\n",
       "    }\n",
       "</style>\n",
       "<table border=\"1\" class=\"dataframe\">\n",
       "  <thead>\n",
       "    <tr style=\"text-align: right;\">\n",
       "      <th></th>\n",
       "      <th>PassengerId</th>\n",
       "      <th>Survived</th>\n",
       "      <th>Pclass</th>\n",
       "      <th>Name</th>\n",
       "      <th>Sex</th>\n",
       "      <th>Age</th>\n",
       "      <th>SibSp</th>\n",
       "      <th>Parch</th>\n",
       "      <th>Ticket</th>\n",
       "      <th>Fare</th>\n",
       "      <th>Cabin</th>\n",
       "      <th>Embarked</th>\n",
       "      <th>title</th>\n",
       "      <th>Location</th>\n",
       "      <th>titleGroup</th>\n",
       "    </tr>\n",
       "  </thead>\n",
       "  <tbody>\n",
       "    <tr>\n",
       "      <th>7</th>\n",
       "      <td>8</td>\n",
       "      <td>0</td>\n",
       "      <td>3</td>\n",
       "      <td>Palsson, Master. Gosta Leonard</td>\n",
       "      <td>male</td>\n",
       "      <td>2.0</td>\n",
       "      <td>3</td>\n",
       "      <td>1</td>\n",
       "      <td>349909</td>\n",
       "      <td>21.0750</td>\n",
       "      <td>U0</td>\n",
       "      <td>S</td>\n",
       "      <td>Master</td>\n",
       "      <td>U</td>\n",
       "      <td>Layperson</td>\n",
       "    </tr>\n",
       "    <tr>\n",
       "      <th>24</th>\n",
       "      <td>25</td>\n",
       "      <td>0</td>\n",
       "      <td>3</td>\n",
       "      <td>Palsson, Miss. Torborg Danira</td>\n",
       "      <td>female</td>\n",
       "      <td>8.0</td>\n",
       "      <td>3</td>\n",
       "      <td>1</td>\n",
       "      <td>349909</td>\n",
       "      <td>21.0750</td>\n",
       "      <td>U0</td>\n",
       "      <td>S</td>\n",
       "      <td>Miss</td>\n",
       "      <td>U</td>\n",
       "      <td>Layperson</td>\n",
       "    </tr>\n",
       "    <tr>\n",
       "      <th>27</th>\n",
       "      <td>28</td>\n",
       "      <td>0</td>\n",
       "      <td>1</td>\n",
       "      <td>Fortune, Mr. Charles Alexander</td>\n",
       "      <td>male</td>\n",
       "      <td>19.0</td>\n",
       "      <td>3</td>\n",
       "      <td>2</td>\n",
       "      <td>19950</td>\n",
       "      <td>263.0000</td>\n",
       "      <td>C23 C25 C27</td>\n",
       "      <td>S</td>\n",
       "      <td>Mr</td>\n",
       "      <td>C</td>\n",
       "      <td>Layperson</td>\n",
       "    </tr>\n",
       "    <tr>\n",
       "      <th>63</th>\n",
       "      <td>64</td>\n",
       "      <td>0</td>\n",
       "      <td>3</td>\n",
       "      <td>Skoog, Master. Harald</td>\n",
       "      <td>male</td>\n",
       "      <td>4.0</td>\n",
       "      <td>3</td>\n",
       "      <td>2</td>\n",
       "      <td>347088</td>\n",
       "      <td>27.9000</td>\n",
       "      <td>U0</td>\n",
       "      <td>S</td>\n",
       "      <td>Master</td>\n",
       "      <td>U</td>\n",
       "      <td>Layperson</td>\n",
       "    </tr>\n",
       "    <tr>\n",
       "      <th>85</th>\n",
       "      <td>86</td>\n",
       "      <td>1</td>\n",
       "      <td>3</td>\n",
       "      <td>Backstrom, Mrs. Karl Alfred (Maria Mathilda Gu...</td>\n",
       "      <td>female</td>\n",
       "      <td>33.0</td>\n",
       "      <td>3</td>\n",
       "      <td>0</td>\n",
       "      <td>3101278</td>\n",
       "      <td>15.8500</td>\n",
       "      <td>U0</td>\n",
       "      <td>S</td>\n",
       "      <td>Mrs</td>\n",
       "      <td>U</td>\n",
       "      <td>Layperson</td>\n",
       "    </tr>\n",
       "    <tr>\n",
       "      <th>88</th>\n",
       "      <td>89</td>\n",
       "      <td>1</td>\n",
       "      <td>1</td>\n",
       "      <td>Fortune, Miss. Mabel Helen</td>\n",
       "      <td>female</td>\n",
       "      <td>23.0</td>\n",
       "      <td>3</td>\n",
       "      <td>2</td>\n",
       "      <td>19950</td>\n",
       "      <td>263.0000</td>\n",
       "      <td>C23 C25 C27</td>\n",
       "      <td>S</td>\n",
       "      <td>Miss</td>\n",
       "      <td>C</td>\n",
       "      <td>Layperson</td>\n",
       "    </tr>\n",
       "    <tr>\n",
       "      <th>176</th>\n",
       "      <td>177</td>\n",
       "      <td>0</td>\n",
       "      <td>3</td>\n",
       "      <td>Lefebre, Master. Henry Forbes</td>\n",
       "      <td>male</td>\n",
       "      <td>NaN</td>\n",
       "      <td>3</td>\n",
       "      <td>1</td>\n",
       "      <td>4133</td>\n",
       "      <td>25.4667</td>\n",
       "      <td>U0</td>\n",
       "      <td>S</td>\n",
       "      <td>Master</td>\n",
       "      <td>U</td>\n",
       "      <td>Layperson</td>\n",
       "    </tr>\n",
       "    <tr>\n",
       "      <th>229</th>\n",
       "      <td>230</td>\n",
       "      <td>0</td>\n",
       "      <td>3</td>\n",
       "      <td>Lefebre, Miss. Mathilde</td>\n",
       "      <td>female</td>\n",
       "      <td>NaN</td>\n",
       "      <td>3</td>\n",
       "      <td>1</td>\n",
       "      <td>4133</td>\n",
       "      <td>25.4667</td>\n",
       "      <td>U0</td>\n",
       "      <td>S</td>\n",
       "      <td>Miss</td>\n",
       "      <td>U</td>\n",
       "      <td>Layperson</td>\n",
       "    </tr>\n",
       "    <tr>\n",
       "      <th>341</th>\n",
       "      <td>342</td>\n",
       "      <td>1</td>\n",
       "      <td>1</td>\n",
       "      <td>Fortune, Miss. Alice Elizabeth</td>\n",
       "      <td>female</td>\n",
       "      <td>24.0</td>\n",
       "      <td>3</td>\n",
       "      <td>2</td>\n",
       "      <td>19950</td>\n",
       "      <td>263.0000</td>\n",
       "      <td>C23 C25 C27</td>\n",
       "      <td>S</td>\n",
       "      <td>Miss</td>\n",
       "      <td>C</td>\n",
       "      <td>Layperson</td>\n",
       "    </tr>\n",
       "    <tr>\n",
       "      <th>374</th>\n",
       "      <td>375</td>\n",
       "      <td>0</td>\n",
       "      <td>3</td>\n",
       "      <td>Palsson, Miss. Stina Viola</td>\n",
       "      <td>female</td>\n",
       "      <td>3.0</td>\n",
       "      <td>3</td>\n",
       "      <td>1</td>\n",
       "      <td>349909</td>\n",
       "      <td>21.0750</td>\n",
       "      <td>U0</td>\n",
       "      <td>S</td>\n",
       "      <td>Miss</td>\n",
       "      <td>U</td>\n",
       "      <td>Layperson</td>\n",
       "    </tr>\n",
       "    <tr>\n",
       "      <th>409</th>\n",
       "      <td>410</td>\n",
       "      <td>0</td>\n",
       "      <td>3</td>\n",
       "      <td>Lefebre, Miss. Ida</td>\n",
       "      <td>female</td>\n",
       "      <td>NaN</td>\n",
       "      <td>3</td>\n",
       "      <td>1</td>\n",
       "      <td>4133</td>\n",
       "      <td>25.4667</td>\n",
       "      <td>U0</td>\n",
       "      <td>S</td>\n",
       "      <td>Miss</td>\n",
       "      <td>U</td>\n",
       "      <td>Layperson</td>\n",
       "    </tr>\n",
       "    <tr>\n",
       "      <th>485</th>\n",
       "      <td>486</td>\n",
       "      <td>0</td>\n",
       "      <td>3</td>\n",
       "      <td>Lefebre, Miss. Jeannie</td>\n",
       "      <td>female</td>\n",
       "      <td>NaN</td>\n",
       "      <td>3</td>\n",
       "      <td>1</td>\n",
       "      <td>4133</td>\n",
       "      <td>25.4667</td>\n",
       "      <td>U0</td>\n",
       "      <td>S</td>\n",
       "      <td>Miss</td>\n",
       "      <td>U</td>\n",
       "      <td>Layperson</td>\n",
       "    </tr>\n",
       "    <tr>\n",
       "      <th>634</th>\n",
       "      <td>635</td>\n",
       "      <td>0</td>\n",
       "      <td>3</td>\n",
       "      <td>Skoog, Miss. Mabel</td>\n",
       "      <td>female</td>\n",
       "      <td>9.0</td>\n",
       "      <td>3</td>\n",
       "      <td>2</td>\n",
       "      <td>347088</td>\n",
       "      <td>27.9000</td>\n",
       "      <td>U0</td>\n",
       "      <td>S</td>\n",
       "      <td>Miss</td>\n",
       "      <td>U</td>\n",
       "      <td>Layperson</td>\n",
       "    </tr>\n",
       "    <tr>\n",
       "      <th>642</th>\n",
       "      <td>643</td>\n",
       "      <td>0</td>\n",
       "      <td>3</td>\n",
       "      <td>Skoog, Miss. Margit Elizabeth</td>\n",
       "      <td>female</td>\n",
       "      <td>2.0</td>\n",
       "      <td>3</td>\n",
       "      <td>2</td>\n",
       "      <td>347088</td>\n",
       "      <td>27.9000</td>\n",
       "      <td>U0</td>\n",
       "      <td>S</td>\n",
       "      <td>Miss</td>\n",
       "      <td>U</td>\n",
       "      <td>Layperson</td>\n",
       "    </tr>\n",
       "    <tr>\n",
       "      <th>726</th>\n",
       "      <td>727</td>\n",
       "      <td>1</td>\n",
       "      <td>2</td>\n",
       "      <td>Renouf, Mrs. Peter Henry (Lillian Jefferys)</td>\n",
       "      <td>female</td>\n",
       "      <td>30.0</td>\n",
       "      <td>3</td>\n",
       "      <td>0</td>\n",
       "      <td>31027</td>\n",
       "      <td>21.0000</td>\n",
       "      <td>U0</td>\n",
       "      <td>S</td>\n",
       "      <td>Mrs</td>\n",
       "      <td>U</td>\n",
       "      <td>Layperson</td>\n",
       "    </tr>\n",
       "    <tr>\n",
       "      <th>819</th>\n",
       "      <td>820</td>\n",
       "      <td>0</td>\n",
       "      <td>3</td>\n",
       "      <td>Skoog, Master. Karl Thorsten</td>\n",
       "      <td>male</td>\n",
       "      <td>10.0</td>\n",
       "      <td>3</td>\n",
       "      <td>2</td>\n",
       "      <td>347088</td>\n",
       "      <td>27.9000</td>\n",
       "      <td>U0</td>\n",
       "      <td>S</td>\n",
       "      <td>Master</td>\n",
       "      <td>U</td>\n",
       "      <td>Layperson</td>\n",
       "    </tr>\n",
       "  </tbody>\n",
       "</table>\n",
       "</div>"
      ],
      "text/plain": [
       "     PassengerId  Survived  Pclass  \\\n",
       "7              8         0       3   \n",
       "24            25         0       3   \n",
       "27            28         0       1   \n",
       "63            64         0       3   \n",
       "85            86         1       3   \n",
       "88            89         1       1   \n",
       "176          177         0       3   \n",
       "229          230         0       3   \n",
       "341          342         1       1   \n",
       "374          375         0       3   \n",
       "409          410         0       3   \n",
       "485          486         0       3   \n",
       "634          635         0       3   \n",
       "642          643         0       3   \n",
       "726          727         1       2   \n",
       "819          820         0       3   \n",
       "\n",
       "                                                  Name     Sex   Age  SibSp  \\\n",
       "7                       Palsson, Master. Gosta Leonard    male   2.0      3   \n",
       "24                       Palsson, Miss. Torborg Danira  female   8.0      3   \n",
       "27                      Fortune, Mr. Charles Alexander    male  19.0      3   \n",
       "63                               Skoog, Master. Harald    male   4.0      3   \n",
       "85   Backstrom, Mrs. Karl Alfred (Maria Mathilda Gu...  female  33.0      3   \n",
       "88                          Fortune, Miss. Mabel Helen  female  23.0      3   \n",
       "176                      Lefebre, Master. Henry Forbes    male   NaN      3   \n",
       "229                            Lefebre, Miss. Mathilde  female   NaN      3   \n",
       "341                     Fortune, Miss. Alice Elizabeth  female  24.0      3   \n",
       "374                         Palsson, Miss. Stina Viola  female   3.0      3   \n",
       "409                                 Lefebre, Miss. Ida  female   NaN      3   \n",
       "485                             Lefebre, Miss. Jeannie  female   NaN      3   \n",
       "634                                 Skoog, Miss. Mabel  female   9.0      3   \n",
       "642                      Skoog, Miss. Margit Elizabeth  female   2.0      3   \n",
       "726        Renouf, Mrs. Peter Henry (Lillian Jefferys)  female  30.0      3   \n",
       "819                       Skoog, Master. Karl Thorsten    male  10.0      3   \n",
       "\n",
       "     Parch   Ticket      Fare        Cabin Embarked   title Location  \\\n",
       "7        1   349909   21.0750           U0        S  Master        U   \n",
       "24       1   349909   21.0750           U0        S    Miss        U   \n",
       "27       2    19950  263.0000  C23 C25 C27        S      Mr        C   \n",
       "63       2   347088   27.9000           U0        S  Master        U   \n",
       "85       0  3101278   15.8500           U0        S     Mrs        U   \n",
       "88       2    19950  263.0000  C23 C25 C27        S    Miss        C   \n",
       "176      1     4133   25.4667           U0        S  Master        U   \n",
       "229      1     4133   25.4667           U0        S    Miss        U   \n",
       "341      2    19950  263.0000  C23 C25 C27        S    Miss        C   \n",
       "374      1   349909   21.0750           U0        S    Miss        U   \n",
       "409      1     4133   25.4667           U0        S    Miss        U   \n",
       "485      1     4133   25.4667           U0        S    Miss        U   \n",
       "634      2   347088   27.9000           U0        S    Miss        U   \n",
       "642      2   347088   27.9000           U0        S    Miss        U   \n",
       "726      0    31027   21.0000           U0        S     Mrs        U   \n",
       "819      2   347088   27.9000           U0        S  Master        U   \n",
       "\n",
       "    titleGroup  \n",
       "7    Layperson  \n",
       "24   Layperson  \n",
       "27   Layperson  \n",
       "63   Layperson  \n",
       "85   Layperson  \n",
       "88   Layperson  \n",
       "176  Layperson  \n",
       "229  Layperson  \n",
       "341  Layperson  \n",
       "374  Layperson  \n",
       "409  Layperson  \n",
       "485  Layperson  \n",
       "634  Layperson  \n",
       "642  Layperson  \n",
       "726  Layperson  \n",
       "819  Layperson  "
      ]
     },
     "execution_count": 35,
     "metadata": {},
     "output_type": "execute_result"
    }
   ],
   "source": [
    "sibsp3 = titanic_df[(titanic_df[\"SibSp\"] == 3) | (titanic_df[\"SibSp\"] == 3)]\n",
    "\n",
    "sibsp3.head(16)"
   ]
  },
  {
   "cell_type": "markdown",
   "id": "c45ccfc2",
   "metadata": {},
   "source": [
    "2females of the family with 3people in first class survived, so now I can see why the graph's shape is unique though the survival rate of big family is low basically. \n",
    "Then there's another question. Is it just a coincidence that a young man with a first class ticket died? Or people in this era and region had chivalry?"
   ]
  },
  {
   "cell_type": "code",
   "execution_count": 36,
   "id": "1a323399",
   "metadata": {},
   "outputs": [
    {
     "data": {
      "image/png": "[encoded data removed]",
      "text/plain": [
       "<Figure size 343.55x288 with 1 Axes>"
      ]
     },
     "metadata": {},
     "output_type": "display_data"
    },
    {
     "data": {
      "image/png": "[encoded data removed]",
      "text/plain": [
       "<Figure size 343.55x288 with 1 Axes>"
      ]
     },
     "metadata": {},
     "output_type": "display_data"
    },
    {
     "data": {
      "image/png": "[encoded data removed]",
      "text/plain": [
       "<Figure size 343.55x288 with 1 Axes>"
      ]
     },
     "metadata": {},
     "output_type": "display_data"
    },
    {
     "data": {
      "image/png": "[encoded data removed]",
      "text/plain": [
       "<Figure size 343.55x288 with 1 Axes>"
      ]
     },
     "metadata": {},
     "output_type": "display_data"
    }
   ],
   "source": [
    "sns.relplot(\n",
    "    x=\"titleGroup\", y=\"Fare\", hue=\"Survived\", style=\"Survived\",\n",
    "    data=titanic_df, height=4);\n",
    "\n",
    "sns.relplot(\n",
    "    x=\"titleGroup\", y=\"Sex\", hue=\"Survived\", style=\"Survived\",\n",
    "    data=titanic_df, height=4);\n",
    "\n",
    "sns.relplot(\n",
    "    x=\"titleGroup\", y=\"Age\", hue=\"Survived\", style=\"Survived\",\n",
    "    data=titanic_df, height=4);\n",
    "\n",
    "sns.relplot(\n",
    "    x=\"titleGroup\", y=\"Pclass\", hue=\"Survived\", style=\"Survived\",\n",
    "    data=titanic_df, height=4);"
   ]
  },
  {
   "cell_type": "code",
   "execution_count": 37,
   "id": "3f50bd68",
   "metadata": {},
   "outputs": [
    {
     "data": {
      "text/html": [
       "<div>\n",
       "<style scoped>\n",
       "    .dataframe tbody tr th:only-of-type {\n",
       "        vertical-align: middle;\n",
       "    }\n",
       "\n",
       "    .dataframe tbody tr th {\n",
       "        vertical-align: top;\n",
       "    }\n",
       "\n",
       "    .dataframe thead th {\n",
       "        text-align: right;\n",
       "    }\n",
       "</style>\n",
       "<table border=\"1\" class=\"dataframe\">\n",
       "  <thead>\n",
       "    <tr style=\"text-align: right;\">\n",
       "      <th></th>\n",
       "      <th>Sex</th>\n",
       "      <th>Survived</th>\n",
       "    </tr>\n",
       "  </thead>\n",
       "  <tbody>\n",
       "    <tr>\n",
       "      <th>0</th>\n",
       "      <td>female</td>\n",
       "      <td>0.742038</td>\n",
       "    </tr>\n",
       "    <tr>\n",
       "      <th>1</th>\n",
       "      <td>male</td>\n",
       "      <td>0.188908</td>\n",
       "    </tr>\n",
       "  </tbody>\n",
       "</table>\n",
       "</div>"
      ],
      "text/plain": [
       "      Sex  Survived\n",
       "0  female  0.742038\n",
       "1    male  0.188908"
      ]
     },
     "execution_count": 37,
     "metadata": {},
     "output_type": "execute_result"
    }
   ],
   "source": [
    "titanic_df[['Sex', 'Survived']].groupby(['Sex'], as_index = False).mean()"
   ]
  },
  {
   "cell_type": "code",
   "execution_count": 38,
   "id": "268f6930",
   "metadata": {},
   "outputs": [
    {
     "data": {
      "image/png": "[encoded data removed]",
      "text/plain": [
       "<Figure size 720x288 with 2 Axes>"
      ]
     },
     "metadata": {},
     "output_type": "display_data"
    }
   ],
   "source": [
    "survived = 'survived'\n",
    "not_survived = 'not survived'\n",
    "female = titanic_df[titanic_df['Sex']=='female']\n",
    "male = titanic_df[titanic_df['Sex']=='male']\n",
    "# --- Graphs ---\n",
    "fig, axes = plt.subplots(nrows=1, ncols=2, figsize=(10, 4))\n",
    "ax = sns.histplot(female[female['Survived']==1].Age.dropna(), bins=30, \n",
    "                  label=survived, \n",
    "                  ax=axes[0], # First plot\n",
    "                  kde=False, color=\"r\", alpha=0.5)\n",
    "ax = sns.histplot(female[female['Survived']==0].Age.dropna(), bins=30, \n",
    "                  label = not_survived, ax = axes[0], kde =False,\n",
    "                  color=\"Silver\", alpha=0.7)\n",
    "ax.legend()\n",
    "ax.set_title('Female')\n",
    "\n",
    "ax = sns.histplot(male[male['Survived']==1].Age.dropna(), bins=30, \n",
    "                  label = survived, \n",
    "                  ax = axes[1], # Second plot\n",
    "                  kde = False, color=\"r\", alpha=0.7)\n",
    "ax = sns.histplot(male[male['Survived']==0].Age.dropna(), bins=30, \n",
    "                  label = not_survived, ax = axes[1], kde = False,\n",
    "                  color=\"Silver\", alpha=0.2)\n",
    "ax.legend()\n",
    "_ = ax.set_title('Male')"
   ]
  },
  {
   "cell_type": "code",
   "execution_count": 39,
   "id": "62d2ed70",
   "metadata": {},
   "outputs": [
    {
     "data": {
      "image/png": "[encoded data removed]",
      "text/plain": [
       "<Figure size 720x288 with 2 Axes>"
      ]
     },
     "metadata": {},
     "output_type": "display_data"
    }
   ],
   "source": [
    "survived = 'survived'\n",
    "not_survived = 'not survived'\n",
    "female = titanic_df[titanic_df['Sex']=='female']\n",
    "male = titanic_df[titanic_df['Sex']=='male']\n",
    "# --- Graphs ---\n",
    "fig, axes = plt.subplots(nrows=1, ncols=2, figsize=(10, 4))\n",
    "ax = sns.histplot(female[female['Survived']==1].titleGroup.dropna(), bins=30, \n",
    "                  label=survived, \n",
    "                  ax=axes[0], # First plot\n",
    "                  kde=False, color=\"r\", alpha=0.5)\n",
    "ax = sns.histplot(female[female['Survived']==0].titleGroup.dropna(), bins=30, \n",
    "                  label = not_survived, ax = axes[0], kde =False,\n",
    "                  color=\"Silver\", alpha=0.7)\n",
    "ax.legend()\n",
    "ax.set_title('Female')\n",
    "\n",
    "ax = sns.histplot(male[male['Survived']==1].titleGroup.dropna(), bins=30, \n",
    "                  label = survived, \n",
    "                  ax = axes[1], # Second plot\n",
    "                  kde = False, color=\"r\", alpha=0.7)\n",
    "ax = sns.histplot(male[male['Survived']==0].titleGroup.dropna(), bins=30, \n",
    "                  label = not_survived, ax = axes[1], kde = False,\n",
    "                  color=\"Silver\", alpha=0.2)\n",
    "ax.legend()\n",
    "_ = ax.set_title('Male')"
   ]
  },
  {
   "cell_type": "markdown",
   "id": "e4fa8d04",
   "metadata": {},
   "source": [
    "It's clear that female definitely survived easier than male whether the age or title in Titanic. One reason is clergies and soldies were only men whose survival rate is low, but still I can estimate, male tried to save female first commonly."
   ]
  },
  {
   "cell_type": "code",
   "execution_count": 40,
   "id": "c6de1218",
   "metadata": {},
   "outputs": [
    {
     "data": {
      "text/plain": [
       "<seaborn.axisgrid.PairGrid at 0x1ba0fc37730>"
      ]
     },
     "execution_count": 40,
     "metadata": {},
     "output_type": "execute_result"
    },
    {
     "data": {
      "image/png": "[encoded data removed]",
      "text/plain": [
       "<Figure size 1205.8x864 with 14 Axes>"
      ]
     },
     "metadata": {},
     "output_type": "display_data"
    }
   ],
   "source": [
    "pairs_df = titanic_df[\n",
    "    ['Pclass', 'Age', 'SibSp', 'Fare', 'Survived']].copy()\n",
    "survived_map =  {0: 'Died', 1: 'Survived'}\n",
    "pairs_df['Survived'] = pairs_df['Survived'].map(survived_map)\n",
    "sns.pairplot(pairs_df, palette='colorblind', hue='Survived', corner=True,\n",
    "             diag_kws=dict(fill=False), markers=[\"o\", \"D\"], height=3, aspect=1.3) "
   ]
  },
  {
   "cell_type": "markdown",
   "id": "626b0f4f",
   "metadata": {},
   "source": [
    "Those plots proves the hypothesis at SectionA. More children and 80 year old were in first class. And more, those are not against to the other explores that I had."
   ]
  },
  {
   "cell_type": "markdown",
   "id": "1b07b027",
   "metadata": {},
   "source": [
    "Section 4. Build an initial prediction model for surviving the accident.\n",
    "\n",
    "Using the template code provided, create a model using at least six features and comment on your findings."
   ]
  },
  {
   "cell_type": "code",
   "execution_count": 41,
   "id": "07c433a5",
   "metadata": {},
   "outputs": [],
   "source": [
    "test_df = test_df[test_df['Fare'].notna()]"
   ]
  },
  {
   "cell_type": "code",
   "execution_count": 42,
   "id": "803169fe",
   "metadata": {},
   "outputs": [
    {
     "name": "stdout",
     "output_type": "stream",
     "text": [
      "(891, 12)\n",
      "(417, 12)\n"
     ]
    }
   ],
   "source": [
    "import random\n",
    "random.seed(1234)\n",
    "\n",
    "def model_x_df(df):\n",
    "    predictors = ['Pclass','Parch', 'Fare', 'SibSp']\n",
    "    data_x = df[predictors].copy()\n",
    "    data_sex_x = pd.get_dummies(df.Sex, prefix='sex')\n",
    "    data_title_group_x =  pd.get_dummies(df.titleGroup, prefix='tg')\n",
    "    result = pd.concat(\n",
    "        [data_x, data_sex_x\n",
    "        ], axis=1)\n",
    "    required_fields = [\n",
    "        'Pclass', 'Age', 'Parch', 'Fare', 'SibSp', \n",
    "        'sex_female', 'sex_male'\n",
    "        ,'tg_Soldiers' ,'tg_Dr' ,'tg_Royalty' ,'tg_Clergy' ,'tg_Layperson'\n",
    "\n",
    "    ]\n",
    "    for req_field in required_fields:\n",
    "        if req_field not in result.columns:\n",
    "             result[req_field] = 0\n",
    "   \n",
    "    return result[required_fields]\n",
    "\n",
    "def model_y_1d(df):\n",
    "    return df['Survived'].values.ravel()\n",
    "\n",
    "train_x = model_x_df(titanic_df)\n",
    "train_y = model_y_1d(titanic_df)\n",
    "\n",
    "test_x = model_x_df(test_df)\n",
    "test_y = model_y_1d(test_df)\n",
    "\n",
    "print(train_x.shape)\n",
    "print(test_x.shape)"
   ]
  },
  {
   "cell_type": "code",
   "execution_count": 43,
   "id": "c3c5ca5b",
   "metadata": {},
   "outputs": [],
   "source": [
    "basic_model = RandomForestClassifier(random_state = 1)\n",
    "basic_fit = basic_model.fit(train_x, train_y)"
   ]
  },
  {
   "cell_type": "code",
   "execution_count": 44,
   "id": "7e94fa8d",
   "metadata": {},
   "outputs": [],
   "source": [
    "def print_score(title, mean_score):\n",
    "    print('{0} = {1:.1f}%'.format(title, mean_score*100))"
   ]
  },
  {
   "cell_type": "code",
   "execution_count": 45,
   "id": "ef81bdca",
   "metadata": {},
   "outputs": [
    {
     "name": "stdout",
     "output_type": "stream",
     "text": [
      "Simple Cross-Validation Score = 79.8%\n"
     ]
    }
   ],
   "source": [
    "cv_scores = cross_val_score(basic_fit, train_x, train_y, cv=5)\n",
    "print_score('Simple Cross-Validation Score', cv_scores.mean())"
   ]
  },
  {
   "cell_type": "code",
   "execution_count": 46,
   "id": "c8ad4353",
   "metadata": {},
   "outputs": [
    {
     "name": "stdout",
     "output_type": "stream",
     "text": [
      "Most important score!\n",
      "Test Score = 73.9%\n"
     ]
    }
   ],
   "source": [
    "test_score = basic_fit.score(test_x, test_y)\n",
    "print('Most important score!')\n",
    "print_score('Test Score', test_score)"
   ]
  },
  {
   "cell_type": "markdown",
   "id": "0b26e0b2",
   "metadata": {},
   "source": [
    "Section 5. Tune the prediction model.\n",
    "\n",
    "Using the template code provided, adjust the values of the hyperparameters."
   ]
  },
  {
   "cell_type": "code",
   "execution_count": 47,
   "id": "aad5527d",
   "metadata": {},
   "outputs": [],
   "source": [
    "param_name = 'max_depth'\n",
    "param_range = [5, 8, 10, 15]\n",
    "train_scores, cv_test_scores = validation_curve(\n",
    "    RandomForestClassifier(),\n",
    "    X = train_x, y = train_y, \n",
    "    param_name = param_name, \n",
    "    param_range = param_range, cv = 5)"
   ]
  },
  {
   "cell_type": "code",
   "execution_count": 48,
   "id": "7f70cdfc",
   "metadata": {},
   "outputs": [
    {
     "data": {
      "image/png": "[encoded data removed]",
      "text/plain": [
       "<Figure size 576x396 with 1 Axes>"
      ]
     },
     "metadata": {},
     "output_type": "display_data"
    }
   ],
   "source": [
    "def plot_curve(train_scores, test_scores, title):\n",
    "    train_scores_mean = np.mean(train_scores, axis=1)\n",
    "    train_scores_std = np.std(train_scores, axis=1)\n",
    "    cv_test_scores_mean = np.mean(cv_test_scores, axis=1)\n",
    "    cv_test_scores_std = np.std(cv_test_scores, axis=1)\n",
    "\n",
    "    plt.title(\"Validation Curve\")\n",
    "    plt.xlabel(title) \n",
    "    plt.ylabel(\"Score\")\n",
    "    plt.ylim(0.0, 1.1)\n",
    "    lw = 2\n",
    "    plt.semilogx(param_range, train_scores_mean, label=\"Score from train data\",\n",
    "                 color=\"darkorange\", lw=lw)\n",
    "    plt.fill_between(param_range, \n",
    "                     train_scores_mean - (3 * train_scores_std) ,\n",
    "                     train_scores_mean + (3 * train_scores_std) , alpha=0.07,\n",
    "                     color=\"red\", lw=lw)\n",
    "    plt.semilogx(param_range, cv_test_scores_mean, label=\"Avg Score from CV\",\n",
    "                 color=\"navy\", lw=lw)\n",
    "    plt.fill_between(param_range, cv_test_scores_mean - (3 * cv_test_scores_std),\n",
    "                     cv_test_scores_mean + (3 * cv_test_scores_std), alpha=0.07,\n",
    "                     color=\"navy\", lw=lw)\n",
    "    plt.legend(loc=\"best\")\n",
    "    plt.show()\n",
    "    \n",
    "plot_curve(train_scores, cv_test_scores, \"Max Depth\")"
   ]
  },
  {
   "cell_type": "code",
   "execution_count": 49,
   "id": "244d7a39",
   "metadata": {},
   "outputs": [],
   "source": [
    "def report_best_params(title, bestFit):\n",
    "    prms = bestFit.best_params_\n",
    "    spacer = '-' * 40\n",
    "    print(spacer)\n",
    "    print(title)\n",
    "    print(spacer)\n",
    "    print('  Best Hyperparameter Combination')\n",
    "    print('  Max Depth = {0}'.format(prms['max_depth']))\n",
    "    print('  Min Samples Leaf  = {0}'.format(prms['min_samples_leaf']))\n",
    "    print('  Min Samples Split = {0}'.format(prms['min_samples_split']))\n",
    "    print('  Number of Estimators = {0}'.format(prms['n_estimators']))"
   ]
  },
  {
   "cell_type": "code",
   "execution_count": 50,
   "id": "c70d0941",
   "metadata": {},
   "outputs": [
    {
     "name": "stdout",
     "output_type": "stream",
     "text": [
      "Fitting 3 folds for each of 560 candidates, totalling 1680 fits\n"
     ]
    }
   ],
   "source": [
    "import random\n",
    "random.seed(2022)\n",
    "hyperF = dict(\n",
    "    n_estimators = [700, 800, 900, 1000, 1100], \n",
    "    max_depth = [5, 8, 10, 15],  \n",
    "    min_samples_split = [2, 3, 4, 5, 10, 15, 20], \n",
    "    min_samples_leaf = [2, 5, 8, 12])\n",
    "forest = RandomForestClassifier(random_state = 1)\n",
    "gridF1 = GridSearchCV(forest, hyperF, cv = 3, verbose = 1, n_jobs = -1)\n",
    "bestF1 = gridF1.fit(train_x, train_y)"
   ]
  },
  {
   "cell_type": "code",
   "execution_count": 51,
   "id": "55966e04",
   "metadata": {},
   "outputs": [
    {
     "name": "stdout",
     "output_type": "stream",
     "text": [
      "----------------------------------------\n",
      "First Grid Search\n",
      "----------------------------------------\n",
      "  Best Hyperparameter Combination\n",
      "  Max Depth = 15\n",
      "  Min Samples Leaf  = 2\n",
      "  Min Samples Split = 5\n",
      "  Number of Estimators = 900\n"
     ]
    }
   ],
   "source": [
    "report_best_params('First Grid Search', bestF1)    "
   ]
  },
  {
   "cell_type": "code",
   "execution_count": 52,
   "id": "c4e5d43a",
   "metadata": {},
   "outputs": [
    {
     "name": "stdout",
     "output_type": "stream",
     "text": [
      "Fitting 5 folds for each of 525 candidates, totalling 2625 fits\n"
     ]
    }
   ],
   "source": [
    "import random\n",
    "random.seed(2022)\n",
    "hyperF = dict(\n",
    "    n_estimators = [860, 870, 890, 900, 910, 920, 930], \n",
    "    max_depth = [13, 14, 15, 16, 17],  \n",
    "    min_samples_split = [3,4,5,6,7], \n",
    "    min_samples_leaf = [1, 2, 3])\n",
    "forest = RandomForestClassifier(random_state = 1)\n",
    "gridF2 = GridSearchCV(forest, hyperF, cv = 5, verbose = 1, n_jobs = -1)\n",
    "bestF2 = gridF2.fit(train_x, train_y)"
   ]
  },
  {
   "cell_type": "code",
   "execution_count": 53,
   "id": "ddb15b06",
   "metadata": {},
   "outputs": [
    {
     "name": "stdout",
     "output_type": "stream",
     "text": [
      "----------------------------------------\n",
      "Second pass\n",
      "----------------------------------------\n",
      "  Best Hyperparameter Combination\n",
      "  Max Depth = 14\n",
      "  Min Samples Leaf  = 3\n",
      "  Min Samples Split = 7\n",
      "  Number of Estimators = 870\n"
     ]
    }
   ],
   "source": [
    "report_best_params('Second pass', bestF2)  "
   ]
  },
  {
   "cell_type": "code",
   "execution_count": 54,
   "id": "c193e484",
   "metadata": {},
   "outputs": [
    {
     "name": "stdout",
     "output_type": "stream",
     "text": [
      "CV score after Grid Seach = 81.6%\n"
     ]
    }
   ],
   "source": [
    "prms = bestF2.best_params_\n",
    "rf_model_final = RandomForestClassifier(\n",
    "    random_state = 1, \n",
    "    max_depth = prms['max_depth'],\n",
    "    n_estimators = prms['n_estimators'],\n",
    "    min_samples_split = prms['min_samples_split'],\n",
    "    min_samples_leaf = prms['min_samples_leaf'])\n",
    "random_forest = rf_model_final.fit(train_x, train_y)\n",
    "train_scores = cross_val_score(random_forest, train_x, train_y, cv=5)\n",
    "print_score('CV score after Grid Seach', train_scores.mean())"
   ]
  },
  {
   "cell_type": "code",
   "execution_count": 55,
   "id": "ac998eff",
   "metadata": {},
   "outputs": [
    {
     "name": "stdout",
     "output_type": "stream",
     "text": [
      "Final score after optimization\n",
      "Test Score = 73.4%\n"
     ]
    }
   ],
   "source": [
    "test_score = random_forest.score(test_x, test_y)\n",
    "print('Final score after optimization')\n",
    "print_score('Test Score', test_score)"
   ]
  },
  {
   "cell_type": "markdown",
   "id": "56936d83",
   "metadata": {},
   "source": [
    "Section 6. Final Notes.\n",
    "\n",
    "Complete your report stating a summary of the conclusions and suggesting next steps."
   ]
  },
  {
   "cell_type": "markdown",
   "id": "e9cf203e",
   "metadata": {},
   "source": [
    "In conclusion, the data showed that the survival rate is more ralated to the social status and ticket price rather than biological strength to run away such as age or gender.\n",
    "If I need to improve the accuracy more, I should make more variables next, or check if there's new data to fill in the missing information.\n",
    "\n",
    "Overall, though the data is old and there are some missing informations, I can say the prediction model works.\n",
    "I learned that when I predict and use ML for the emergency survival, I should consider not only about the general information, but also about how people act and what types of people are there."
   ]
  },
  {
   "cell_type": "code",
   "execution_count": null,
   "id": "d8455bf6",
   "metadata": {},
   "outputs": [],
   "source": []
  }
 ],
 "metadata": {
  "kernelspec": {
   "display_name": "Python 3 (ipykernel)",
   "language": "python",
   "name": "python3"
  },
  "language_info": {
   "codemirror_mode": {
    "name": "ipython",
    "version": 3
   },
   "file_extension": ".py",
   "mimetype": "text/x-python",
   "name": "python",
   "nbconvert_exporter": "python",
   "pygments_lexer": "ipython3",
   "version": "3.9.7"
  }
 },
 "nbformat": 4,
 "nbformat_minor": 5
}
